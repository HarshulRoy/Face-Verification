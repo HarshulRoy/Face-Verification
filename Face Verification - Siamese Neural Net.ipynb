{
 "cells": [
  {
   "cell_type": "code",
   "execution_count": 1,
   "id": "b6d8e906",
   "metadata": {
    "scrolled": true
   },
   "outputs": [],
   "source": [
    "# !nvidia-smi"
   ]
  },
  {
   "cell_type": "code",
   "execution_count": 2,
   "id": "5b351bb7",
   "metadata": {},
   "outputs": [],
   "source": [
    "# from pynvml import *\n",
    "# nvmlInit()\n",
    "# h = nvmlDeviceGetHandleByIndex(0)\n",
    "# info = nvmlDeviceGetMemoryInfo(h)\n",
    "# print(f'total    : {info.total}')\n",
    "# print(f'free     : {info.free}')\n",
    "# print(f'used     : {info.used}')"
   ]
  },
  {
   "cell_type": "code",
   "execution_count": 8,
   "id": "a4bd396f",
   "metadata": {},
   "outputs": [
    {
     "name": "stdout",
     "output_type": "stream",
     "text": [
      "Collecting tensorflow==2.7.1\n",
      "  Downloading tensorflow-2.7.1-cp39-cp39-manylinux2010_x86_64.whl (495.2 MB)\n",
      "\u001b[K     |████████████████████████████████| 495.2 MB 9.5 kB/s eta 0:00:01    |█████▏                          | 79.1 MB 2.3 MB/s eta 0:03:04     |███████████████████████▏        | 358.4 MB 3.6 MB/s eta 0:00:38\n",
      "\u001b[?25hCollecting tensorflow-gpu==2.7.1\n",
      "  Downloading tensorflow_gpu-2.7.1-cp39-cp39-manylinux2010_x86_64.whl (495.2 MB)\n",
      "\u001b[K     |████████████████████████████████| 495.2 MB 9.8 kB/s eta 0:00:01\n",
      "\u001b[?25hCollecting opencv-python\n",
      "  Using cached opencv_python-4.6.0.66-cp36-abi3-manylinux_2_17_x86_64.manylinux2014_x86_64.whl (60.9 MB)\n",
      "Requirement already satisfied: matplotlib in /home/aneesh/anaconda3/envs/jupyter_env/lib/python3.9/site-packages (3.5.1)\n",
      "Collecting tensorflow-io-gcs-filesystem>=0.21.0\n",
      "  Downloading tensorflow_io_gcs_filesystem-0.27.0-cp39-cp39-manylinux_2_12_x86_64.manylinux2010_x86_64.whl (2.4 MB)\n",
      "\u001b[K     |████████████████████████████████| 2.4 MB 5.5 MB/s eta 0:00:01\n",
      "\u001b[?25hCollecting astunparse>=1.6.0\n",
      "  Using cached astunparse-1.6.3-py2.py3-none-any.whl (12 kB)\n",
      "Requirement already satisfied: six>=1.12.0 in /home/aneesh/anaconda3/envs/jupyter_env/lib/python3.9/site-packages (from tensorflow==2.7.1) (1.16.0)\n",
      "Requirement already satisfied: protobuf>=3.9.2 in /home/aneesh/anaconda3/envs/jupyter_env/lib/python3.9/site-packages (from tensorflow==2.7.1) (3.19.1)\n",
      "Collecting opt-einsum>=2.3.2\n",
      "  Using cached opt_einsum-3.3.0-py3-none-any.whl (65 kB)\n",
      "Collecting keras<2.8,>=2.7.0rc0\n",
      "  Downloading keras-2.7.0-py2.py3-none-any.whl (1.3 MB)\n",
      "\u001b[K     |████████████████████████████████| 1.3 MB 7.8 MB/s eta 0:00:01\n",
      "\u001b[?25hCollecting termcolor>=1.1.0\n",
      "  Downloading termcolor-2.0.1-py3-none-any.whl (5.4 kB)\n",
      "Requirement already satisfied: h5py>=2.9.0 in /home/aneesh/anaconda3/envs/jupyter_env/lib/python3.9/site-packages (from tensorflow==2.7.1) (3.6.0)\n",
      "Collecting flatbuffers<3.0,>=1.12\n",
      "  Downloading flatbuffers-2.0.7-py2.py3-none-any.whl (26 kB)\n",
      "Requirement already satisfied: grpcio<2.0,>=1.24.3 in /home/aneesh/anaconda3/envs/jupyter_env/lib/python3.9/site-packages (from tensorflow==2.7.1) (1.42.0)\n",
      "Collecting keras-preprocessing>=1.1.1\n",
      "  Using cached Keras_Preprocessing-1.1.2-py2.py3-none-any.whl (42 kB)\n",
      "Collecting google-pasta>=0.1.1\n",
      "  Using cached google_pasta-0.2.0-py3-none-any.whl (57 kB)\n",
      "Requirement already satisfied: numpy>=1.14.5 in /home/aneesh/anaconda3/envs/jupyter_env/lib/python3.9/site-packages (from tensorflow==2.7.1) (1.21.5)\n",
      "Collecting absl-py>=0.4.0\n",
      "  Downloading absl_py-1.3.0-py3-none-any.whl (124 kB)\n",
      "\u001b[K     |████████████████████████████████| 124 kB 14.4 MB/s eta 0:00:01\n",
      "\u001b[?25hCollecting tensorflow-estimator<2.8,~=2.7.0rc0\n",
      "  Downloading tensorflow_estimator-2.7.0-py2.py3-none-any.whl (463 kB)\n",
      "\u001b[K     |████████████████████████████████| 463 kB 14.6 MB/s eta 0:00:01\n",
      "\u001b[?25hCollecting gast<0.5.0,>=0.2.1\n",
      "  Using cached gast-0.4.0-py3-none-any.whl (9.8 kB)\n",
      "Collecting tensorboard~=2.6\n",
      "  Downloading tensorboard-2.10.1-py3-none-any.whl (5.9 MB)\n",
      "\u001b[K     |████████████████████████████████| 5.9 MB 2.0 MB/s eta 0:00:011\n",
      "\u001b[?25hCollecting libclang>=9.0.1\n",
      "  Using cached libclang-14.0.6-py2.py3-none-manylinux2010_x86_64.whl (14.1 MB)\n",
      "Requirement already satisfied: typing-extensions>=3.6.6 in /home/aneesh/anaconda3/envs/jupyter_env/lib/python3.9/site-packages (from tensorflow==2.7.1) (4.1.1)\n",
      "Requirement already satisfied: wrapt>=1.11.0 in /home/aneesh/anaconda3/envs/jupyter_env/lib/python3.9/site-packages (from tensorflow==2.7.1) (1.12.1)\n",
      "Requirement already satisfied: wheel<1.0,>=0.32.0 in /home/aneesh/anaconda3/envs/jupyter_env/lib/python3.9/site-packages (from tensorflow==2.7.1) (0.37.1)\n",
      "Requirement already satisfied: python-dateutil>=2.7 in /home/aneesh/anaconda3/envs/jupyter_env/lib/python3.9/site-packages (from matplotlib) (2.8.2)\n",
      "Requirement already satisfied: kiwisolver>=1.0.1 in /home/aneesh/anaconda3/envs/jupyter_env/lib/python3.9/site-packages (from matplotlib) (1.3.2)\n",
      "Requirement already satisfied: pyparsing>=2.2.1 in /home/aneesh/anaconda3/envs/jupyter_env/lib/python3.9/site-packages (from matplotlib) (3.0.4)\n",
      "Requirement already satisfied: fonttools>=4.22.0 in /home/aneesh/anaconda3/envs/jupyter_env/lib/python3.9/site-packages (from matplotlib) (4.25.0)\n",
      "Requirement already satisfied: cycler>=0.10 in /home/aneesh/anaconda3/envs/jupyter_env/lib/python3.9/site-packages (from matplotlib) (0.11.0)\n",
      "Requirement already satisfied: packaging>=20.0 in /home/aneesh/anaconda3/envs/jupyter_env/lib/python3.9/site-packages (from matplotlib) (21.3)\n",
      "Requirement already satisfied: pillow>=6.2.0 in /home/aneesh/anaconda3/envs/jupyter_env/lib/python3.9/site-packages (from matplotlib) (9.0.1)\n",
      "Requirement already satisfied: requests<3,>=2.21.0 in /home/aneesh/anaconda3/envs/jupyter_env/lib/python3.9/site-packages (from tensorboard~=2.6->tensorflow==2.7.1) (2.27.1)\n",
      "Collecting google-auth-oauthlib<0.5,>=0.4.1\n",
      "  Using cached google_auth_oauthlib-0.4.6-py2.py3-none-any.whl (18 kB)\n",
      "Requirement already satisfied: google-auth<3,>=1.6.3 in /home/aneesh/anaconda3/envs/jupyter_env/lib/python3.9/site-packages (from tensorboard~=2.6->tensorflow==2.7.1) (1.33.0)\n",
      "Collecting tensorboard-data-server<0.7.0,>=0.6.0\n",
      "  Using cached tensorboard_data_server-0.6.1-py3-none-manylinux2010_x86_64.whl (4.9 MB)\n",
      "Requirement already satisfied: werkzeug>=1.0.1 in /home/aneesh/anaconda3/envs/jupyter_env/lib/python3.9/site-packages (from tensorboard~=2.6->tensorflow==2.7.1) (2.0.3)\n",
      "Collecting tensorboard-plugin-wit>=1.6.0\n",
      "  Using cached tensorboard_plugin_wit-1.8.1-py3-none-any.whl (781 kB)\n",
      "Requirement already satisfied: setuptools>=41.0.0 in /home/aneesh/anaconda3/envs/jupyter_env/lib/python3.9/site-packages (from tensorboard~=2.6->tensorflow==2.7.1) (61.2.0)\n",
      "Requirement already satisfied: markdown>=2.6.8 in /home/aneesh/anaconda3/envs/jupyter_env/lib/python3.9/site-packages (from tensorboard~=2.6->tensorflow==2.7.1) (3.3.4)\n",
      "Requirement already satisfied: rsa<5,>=3.1.4 in /home/aneesh/anaconda3/envs/jupyter_env/lib/python3.9/site-packages (from google-auth<3,>=1.6.3->tensorboard~=2.6->tensorflow==2.7.1) (4.7.2)\n",
      "Requirement already satisfied: cachetools<5.0,>=2.0.0 in /home/aneesh/anaconda3/envs/jupyter_env/lib/python3.9/site-packages (from google-auth<3,>=1.6.3->tensorboard~=2.6->tensorflow==2.7.1) (4.2.2)\n",
      "Requirement already satisfied: pyasn1-modules>=0.2.1 in /home/aneesh/anaconda3/envs/jupyter_env/lib/python3.9/site-packages (from google-auth<3,>=1.6.3->tensorboard~=2.6->tensorflow==2.7.1) (0.2.8)\n",
      "Collecting requests-oauthlib>=0.7.0\n",
      "  Using cached requests_oauthlib-1.3.1-py2.py3-none-any.whl (23 kB)\n",
      "Requirement already satisfied: pyasn1<0.5.0,>=0.4.6 in /home/aneesh/anaconda3/envs/jupyter_env/lib/python3.9/site-packages (from pyasn1-modules>=0.2.1->google-auth<3,>=1.6.3->tensorboard~=2.6->tensorflow==2.7.1) (0.4.8)\n",
      "Requirement already satisfied: charset-normalizer~=2.0.0 in /home/aneesh/anaconda3/envs/jupyter_env/lib/python3.9/site-packages (from requests<3,>=2.21.0->tensorboard~=2.6->tensorflow==2.7.1) (2.0.4)\n",
      "Requirement already satisfied: idna<4,>=2.5 in /home/aneesh/anaconda3/envs/jupyter_env/lib/python3.9/site-packages (from requests<3,>=2.21.0->tensorboard~=2.6->tensorflow==2.7.1) (3.3)\n",
      "Requirement already satisfied: certifi>=2017.4.17 in /home/aneesh/anaconda3/envs/jupyter_env/lib/python3.9/site-packages (from requests<3,>=2.21.0->tensorboard~=2.6->tensorflow==2.7.1) (2021.10.8)\n",
      "Requirement already satisfied: urllib3<1.27,>=1.21.1 in /home/aneesh/anaconda3/envs/jupyter_env/lib/python3.9/site-packages (from requests<3,>=2.21.0->tensorboard~=2.6->tensorflow==2.7.1) (1.26.9)\n",
      "Collecting oauthlib>=3.0.0\n",
      "  Downloading oauthlib-3.2.2-py3-none-any.whl (151 kB)\n",
      "\u001b[K     |████████████████████████████████| 151 kB 8.9 MB/s eta 0:00:01\n",
      "\u001b[?25hInstalling collected packages: oauthlib, requests-oauthlib, tensorboard-plugin-wit, tensorboard-data-server, google-auth-oauthlib, absl-py, termcolor, tensorflow-io-gcs-filesystem, tensorflow-estimator, tensorboard, opt-einsum, libclang, keras-preprocessing, keras, google-pasta, gast, flatbuffers, astunparse, tensorflow-gpu, tensorflow, opencv-python\n",
      "Successfully installed absl-py-1.3.0 astunparse-1.6.3 flatbuffers-2.0.7 gast-0.4.0 google-auth-oauthlib-0.4.6 google-pasta-0.2.0 keras-2.7.0 keras-preprocessing-1.1.2 libclang-14.0.6 oauthlib-3.2.2 opencv-python-4.6.0.66 opt-einsum-3.3.0 requests-oauthlib-1.3.1 tensorboard-2.10.1 tensorboard-data-server-0.6.1 tensorboard-plugin-wit-1.8.1 tensorflow-2.7.1 tensorflow-estimator-2.7.0 tensorflow-gpu-2.7.1 tensorflow-io-gcs-filesystem-0.27.0 termcolor-2.0.1\n"
     ]
    }
   ],
   "source": [
    "!pip install tensorflow==2.7.1 tensorflow-gpu==2.7.1 opencv-python matplotlib"
   ]
  },
  {
   "cell_type": "code",
   "execution_count": 1,
   "id": "7edbca4e",
   "metadata": {},
   "outputs": [],
   "source": [
    "# Import standard dependencies\n",
    "\n",
    "import cv2\n",
    "import os\n",
    "import random\n",
    "import numpy as np\n",
    "from matplotlib import pyplot as plt\n",
    "\n",
    "# Import tensorflow dependencies - Functional API\n",
    "\n",
    "from tensorflow.keras.models import Model\n",
    "from tensorflow.keras.layers import Layer, Conv2D, Dense, MaxPooling2D, Input, Flatten\n",
    "import tensorflow as tf"
   ]
  },
  {
   "cell_type": "code",
   "execution_count": 2,
   "id": "092bd9a5",
   "metadata": {},
   "outputs": [
    {
     "name": "stderr",
     "output_type": "stream",
     "text": [
      "2022-10-25 20:04:05.857498: I tensorflow/stream_executor/cuda/cuda_gpu_executor.cc:939] successful NUMA node read from SysFS had negative value (-1), but there must be at least one NUMA node, so returning NUMA node zero\n",
      "2022-10-25 20:04:05.877316: W tensorflow/stream_executor/platform/default/dso_loader.cc:64] Could not load dynamic library 'libcudnn.so.8'; dlerror: libcudnn.so.8: cannot open shared object file: No such file or directory; LD_LIBRARY_PATH: /home/aneesh/anaconda3/envs/jupyter_env/lib/python3.9/site-packages/cv2/../../lib64:\n",
      "2022-10-25 20:04:05.877334: W tensorflow/core/common_runtime/gpu/gpu_device.cc:1850] Cannot dlopen some GPU libraries. Please make sure the missing libraries mentioned above are installed properly if you would like to use GPU. Follow the guide at https://www.tensorflow.org/install/gpu for how to download and setup the required libraries for your platform.\n",
      "Skipping registering GPU devices...\n"
     ]
    }
   ],
   "source": [
    "# Avoid OOM errors by setting GPU Memory Consumption Growth\n",
    "\n",
    "gpus = tf.config.experimental.list_physical_devices('GPU')\n",
    "for gpu in gpus: \n",
    "    tf.config.experimental.set_memory_growth(gpu, True)"
   ]
  },
  {
   "cell_type": "code",
   "execution_count": 11,
   "id": "a24bbf3e",
   "metadata": {},
   "outputs": [],
   "source": [
    "# Setup paths\n",
    "POS_PATH = os.path.join('data', 'positive')\n",
    "NEG_PATH = os.path.join('data', 'negative')\n",
    "ANC_PATH = os.path.join('data', 'anchor')"
   ]
  },
  {
   "cell_type": "code",
   "execution_count": 12,
   "id": "aac1f473",
   "metadata": {},
   "outputs": [],
   "source": [
    "# Make the directories\n",
    "os.makedirs(POS_PATH)\n",
    "os.makedirs(NEG_PATH)\n",
    "os.makedirs(ANC_PATH)"
   ]
  },
  {
   "cell_type": "markdown",
   "id": "a54e6f11",
   "metadata": {},
   "source": [
    "## Collecting Positives and Anchors"
   ]
  },
  {
   "cell_type": "code",
   "execution_count": null,
   "id": "b3e071d2",
   "metadata": {},
   "outputs": [],
   "source": [
    "# http://vis-www.cs.umass.edu/lfw/"
   ]
  },
  {
   "cell_type": "code",
   "execution_count": 17,
   "id": "dc945433",
   "metadata": {},
   "outputs": [],
   "source": [
    "# Uncompress Tar GZ Labelled Faces in the Wild Dataset\n",
    "!tar -xf lfw.tgz"
   ]
  },
  {
   "cell_type": "code",
   "execution_count": 18,
   "id": "29cb8adc",
   "metadata": {},
   "outputs": [],
   "source": [
    "# Move LFW Images to the following repository data/negative\n",
    "for directory in os.listdir('lfw'):\n",
    "    for file in os.listdir(os.path.join('lfw', directory)):\n",
    "        EX_PATH = os.path.join('lfw', directory, file)\n",
    "        NEW_PATH = os.path.join(NEG_PATH, file)\n",
    "        os.replace(EX_PATH, NEW_PATH)"
   ]
  },
  {
   "cell_type": "markdown",
   "id": "141b0638",
   "metadata": {},
   "source": [
    "### Collectig Positive & Anchor Images"
   ]
  },
  {
   "cell_type": "code",
   "execution_count": 19,
   "id": "ada737a9",
   "metadata": {},
   "outputs": [],
   "source": [
    "# Import uuid library to generate unique image names\n",
    "import uuid"
   ]
  },
  {
   "cell_type": "code",
   "execution_count": 20,
   "id": "d56bae37",
   "metadata": {},
   "outputs": [
    {
     "data": {
      "text/plain": [
       "'data/anchor/80ba081a-5176-11ed-aeb1-91af58059082.jpg'"
      ]
     },
     "execution_count": 20,
     "metadata": {},
     "output_type": "execute_result"
    }
   ],
   "source": [
    "os.path.join(ANC_PATH, '{}.jpg'.format(uuid.uuid1()))"
   ]
  },
  {
   "cell_type": "code",
   "execution_count": 33,
   "id": "270b325a",
   "metadata": {},
   "outputs": [
    {
     "name": "stderr",
     "output_type": "stream",
     "text": [
      "QObject::moveToThread: Current thread (0x55806d5017a0) is not the object's thread (0x55806d8e21c0).\n",
      "Cannot move to target thread (0x55806d5017a0)\n",
      "\n",
      "QObject::moveToThread: Current thread (0x55806d5017a0) is not the object's thread (0x55806d8e21c0).\n",
      "Cannot move to target thread (0x55806d5017a0)\n",
      "\n",
      "QObject::moveToThread: Current thread (0x55806d5017a0) is not the object's thread (0x55806d8e21c0).\n",
      "Cannot move to target thread (0x55806d5017a0)\n",
      "\n",
      "QObject::moveToThread: Current thread (0x55806d5017a0) is not the object's thread (0x55806d8e21c0).\n",
      "Cannot move to target thread (0x55806d5017a0)\n",
      "\n",
      "QObject::moveToThread: Current thread (0x55806d5017a0) is not the object's thread (0x55806d8e21c0).\n",
      "Cannot move to target thread (0x55806d5017a0)\n",
      "\n",
      "QObject::moveToThread: Current thread (0x55806d5017a0) is not the object's thread (0x55806d8e21c0).\n",
      "Cannot move to target thread (0x55806d5017a0)\n",
      "\n",
      "QObject::moveToThread: Current thread (0x55806d5017a0) is not the object's thread (0x55806d8e21c0).\n",
      "Cannot move to target thread (0x55806d5017a0)\n",
      "\n",
      "QObject::moveToThread: Current thread (0x55806d5017a0) is not the object's thread (0x55806d8e21c0).\n",
      "Cannot move to target thread (0x55806d5017a0)\n",
      "\n",
      "QObject::moveToThread: Current thread (0x55806d5017a0) is not the object's thread (0x55806d8e21c0).\n",
      "Cannot move to target thread (0x55806d5017a0)\n",
      "\n",
      "QObject::moveToThread: Current thread (0x55806d5017a0) is not the object's thread (0x55806d8e21c0).\n",
      "Cannot move to target thread (0x55806d5017a0)\n",
      "\n",
      "QObject::moveToThread: Current thread (0x55806d5017a0) is not the object's thread (0x55806d8e21c0).\n",
      "Cannot move to target thread (0x55806d5017a0)\n",
      "\n",
      "QObject::moveToThread: Current thread (0x55806d5017a0) is not the object's thread (0x55806d8e21c0).\n",
      "Cannot move to target thread (0x55806d5017a0)\n",
      "\n",
      "QObject::moveToThread: Current thread (0x55806d5017a0) is not the object's thread (0x55806d8e21c0).\n",
      "Cannot move to target thread (0x55806d5017a0)\n",
      "\n",
      "QObject::moveToThread: Current thread (0x55806d5017a0) is not the object's thread (0x55806d8e21c0).\n",
      "Cannot move to target thread (0x55806d5017a0)\n",
      "\n",
      "QObject::moveToThread: Current thread (0x55806d5017a0) is not the object's thread (0x55806d8e21c0).\n",
      "Cannot move to target thread (0x55806d5017a0)\n",
      "\n",
      "QObject::moveToThread: Current thread (0x55806d5017a0) is not the object's thread (0x55806d8e21c0).\n",
      "Cannot move to target thread (0x55806d5017a0)\n",
      "\n",
      "QObject::moveToThread: Current thread (0x55806d5017a0) is not the object's thread (0x55806d8e21c0).\n",
      "Cannot move to target thread (0x55806d5017a0)\n",
      "\n",
      "QObject::moveToThread: Current thread (0x55806d5017a0) is not the object's thread (0x55806d8e21c0).\n",
      "Cannot move to target thread (0x55806d5017a0)\n",
      "\n",
      "QObject::moveToThread: Current thread (0x55806d5017a0) is not the object's thread (0x55806d8e21c0).\n",
      "Cannot move to target thread (0x55806d5017a0)\n",
      "\n",
      "QObject::moveToThread: Current thread (0x55806d5017a0) is not the object's thread (0x55806d8e21c0).\n",
      "Cannot move to target thread (0x55806d5017a0)\n",
      "\n",
      "QObject::moveToThread: Current thread (0x55806d5017a0) is not the object's thread (0x55806d8e21c0).\n",
      "Cannot move to target thread (0x55806d5017a0)\n",
      "\n",
      "QObject::moveToThread: Current thread (0x55806d5017a0) is not the object's thread (0x55806d8e21c0).\n",
      "Cannot move to target thread (0x55806d5017a0)\n",
      "\n",
      "QObject::moveToThread: Current thread (0x55806d5017a0) is not the object's thread (0x55806d8e21c0).\n",
      "Cannot move to target thread (0x55806d5017a0)\n",
      "\n",
      "QObject::moveToThread: Current thread (0x55806d5017a0) is not the object's thread (0x55806d8e21c0).\n",
      "Cannot move to target thread (0x55806d5017a0)\n",
      "\n",
      "QObject::moveToThread: Current thread (0x55806d5017a0) is not the object's thread (0x55806d8e21c0).\n",
      "Cannot move to target thread (0x55806d5017a0)\n",
      "\n",
      "QObject::moveToThread: Current thread (0x55806d5017a0) is not the object's thread (0x55806d8e21c0).\n",
      "Cannot move to target thread (0x55806d5017a0)\n",
      "\n",
      "QObject::moveToThread: Current thread (0x55806d5017a0) is not the object's thread (0x55806d8e21c0).\n",
      "Cannot move to target thread (0x55806d5017a0)\n",
      "\n",
      "QObject::moveToThread: Current thread (0x55806d5017a0) is not the object's thread (0x55806d8e21c0).\n",
      "Cannot move to target thread (0x55806d5017a0)\n",
      "\n",
      "QObject::moveToThread: Current thread (0x55806d5017a0) is not the object's thread (0x55806d8e21c0).\n",
      "Cannot move to target thread (0x55806d5017a0)\n",
      "\n",
      "QObject::moveToThread: Current thread (0x55806d5017a0) is not the object's thread (0x55806d8e21c0).\n",
      "Cannot move to target thread (0x55806d5017a0)\n",
      "\n",
      "QObject::moveToThread: Current thread (0x55806d5017a0) is not the object's thread (0x55806d8e21c0).\n",
      "Cannot move to target thread (0x55806d5017a0)\n",
      "\n",
      "QObject::moveToThread: Current thread (0x55806d5017a0) is not the object's thread (0x55806d8e21c0).\n",
      "Cannot move to target thread (0x55806d5017a0)\n",
      "\n",
      "QObject::moveToThread: Current thread (0x55806d5017a0) is not the object's thread (0x55806d8e21c0).\n",
      "Cannot move to target thread (0x55806d5017a0)\n",
      "\n",
      "QObject::moveToThread: Current thread (0x55806d5017a0) is not the object's thread (0x55806d8e21c0).\n",
      "Cannot move to target thread (0x55806d5017a0)\n",
      "\n",
      "QObject::moveToThread: Current thread (0x55806d5017a0) is not the object's thread (0x55806d8e21c0).\n",
      "Cannot move to target thread (0x55806d5017a0)\n",
      "\n",
      "QObject::moveToThread: Current thread (0x55806d5017a0) is not the object's thread (0x55806d8e21c0).\n",
      "Cannot move to target thread (0x55806d5017a0)\n",
      "\n",
      "QObject::moveToThread: Current thread (0x55806d5017a0) is not the object's thread (0x55806d8e21c0).\n",
      "Cannot move to target thread (0x55806d5017a0)\n",
      "\n",
      "QObject::moveToThread: Current thread (0x55806d5017a0) is not the object's thread (0x55806d8e21c0).\n",
      "Cannot move to target thread (0x55806d5017a0)\n",
      "\n",
      "QObject::moveToThread: Current thread (0x55806d5017a0) is not the object's thread (0x55806d8e21c0).\n",
      "Cannot move to target thread (0x55806d5017a0)\n",
      "\n",
      "QObject::moveToThread: Current thread (0x55806d5017a0) is not the object's thread (0x55806d8e21c0).\n",
      "Cannot move to target thread (0x55806d5017a0)\n",
      "\n",
      "QObject::moveToThread: Current thread (0x55806d5017a0) is not the object's thread (0x55806d8e21c0).\n",
      "Cannot move to target thread (0x55806d5017a0)\n",
      "\n",
      "QObject::moveToThread: Current thread (0x55806d5017a0) is not the object's thread (0x55806d8e21c0).\n",
      "Cannot move to target thread (0x55806d5017a0)\n",
      "\n",
      "QObject::moveToThread: Current thread (0x55806d5017a0) is not the object's thread (0x55806d8e21c0).\n",
      "Cannot move to target thread (0x55806d5017a0)\n",
      "\n",
      "QObject::moveToThread: Current thread (0x55806d5017a0) is not the object's thread (0x55806d8e21c0).\n",
      "Cannot move to target thread (0x55806d5017a0)\n",
      "\n",
      "QObject::moveToThread: Current thread (0x55806d5017a0) is not the object's thread (0x55806d8e21c0).\n",
      "Cannot move to target thread (0x55806d5017a0)\n",
      "\n",
      "QObject::moveToThread: Current thread (0x55806d5017a0) is not the object's thread (0x55806d8e21c0).\n",
      "Cannot move to target thread (0x55806d5017a0)\n",
      "\n",
      "QObject::moveToThread: Current thread (0x55806d5017a0) is not the object's thread (0x55806d8e21c0).\n",
      "Cannot move to target thread (0x55806d5017a0)\n",
      "\n",
      "QObject::moveToThread: Current thread (0x55806d5017a0) is not the object's thread (0x55806d8e21c0).\n",
      "Cannot move to target thread (0x55806d5017a0)\n",
      "\n",
      "QObject::moveToThread: Current thread (0x55806d5017a0) is not the object's thread (0x55806d8e21c0).\n",
      "Cannot move to target thread (0x55806d5017a0)\n",
      "\n",
      "QObject::moveToThread: Current thread (0x55806d5017a0) is not the object's thread (0x55806d8e21c0).\n",
      "Cannot move to target thread (0x55806d5017a0)\n",
      "\n",
      "QObject::moveToThread: Current thread (0x55806d5017a0) is not the object's thread (0x55806d8e21c0).\n",
      "Cannot move to target thread (0x55806d5017a0)\n",
      "\n",
      "QObject::moveToThread: Current thread (0x55806d5017a0) is not the object's thread (0x55806d8e21c0).\n",
      "Cannot move to target thread (0x55806d5017a0)\n",
      "\n",
      "QObject::moveToThread: Current thread (0x55806d5017a0) is not the object's thread (0x55806d8e21c0).\n",
      "Cannot move to target thread (0x55806d5017a0)\n",
      "\n",
      "QObject::moveToThread: Current thread (0x55806d5017a0) is not the object's thread (0x55806d8e21c0).\n",
      "Cannot move to target thread (0x55806d5017a0)\n",
      "\n",
      "QObject::moveToThread: Current thread (0x55806d5017a0) is not the object's thread (0x55806d8e21c0).\n",
      "Cannot move to target thread (0x55806d5017a0)\n",
      "\n",
      "QObject::moveToThread: Current thread (0x55806d5017a0) is not the object's thread (0x55806d8e21c0).\n",
      "Cannot move to target thread (0x55806d5017a0)\n",
      "\n",
      "QObject::moveToThread: Current thread (0x55806d5017a0) is not the object's thread (0x55806d8e21c0).\n",
      "Cannot move to target thread (0x55806d5017a0)\n",
      "\n",
      "QObject::moveToThread: Current thread (0x55806d5017a0) is not the object's thread (0x55806d8e21c0).\n",
      "Cannot move to target thread (0x55806d5017a0)\n",
      "\n",
      "QObject::moveToThread: Current thread (0x55806d5017a0) is not the object's thread (0x55806d8e21c0).\n",
      "Cannot move to target thread (0x55806d5017a0)\n",
      "\n",
      "QObject::moveToThread: Current thread (0x55806d5017a0) is not the object's thread (0x55806d8e21c0).\n",
      "Cannot move to target thread (0x55806d5017a0)\n",
      "\n",
      "QObject::moveToThread: Current thread (0x55806d5017a0) is not the object's thread (0x55806d8e21c0).\n",
      "Cannot move to target thread (0x55806d5017a0)\n",
      "\n",
      "QObject::moveToThread: Current thread (0x55806d5017a0) is not the object's thread (0x55806d8e21c0).\n",
      "Cannot move to target thread (0x55806d5017a0)\n",
      "\n",
      "QObject::moveToThread: Current thread (0x55806d5017a0) is not the object's thread (0x55806d8e21c0).\n",
      "Cannot move to target thread (0x55806d5017a0)\n",
      "\n",
      "QObject::moveToThread: Current thread (0x55806d5017a0) is not the object's thread (0x55806d8e21c0).\n",
      "Cannot move to target thread (0x55806d5017a0)\n",
      "\n",
      "QObject::moveToThread: Current thread (0x55806d5017a0) is not the object's thread (0x55806d8e21c0).\n",
      "Cannot move to target thread (0x55806d5017a0)\n",
      "\n",
      "QObject::moveToThread: Current thread (0x55806d5017a0) is not the object's thread (0x55806d8e21c0).\n",
      "Cannot move to target thread (0x55806d5017a0)\n",
      "\n",
      "QObject::moveToThread: Current thread (0x55806d5017a0) is not the object's thread (0x55806d8e21c0).\n",
      "Cannot move to target thread (0x55806d5017a0)\n",
      "\n",
      "QObject::moveToThread: Current thread (0x55806d5017a0) is not the object's thread (0x55806d8e21c0).\n",
      "Cannot move to target thread (0x55806d5017a0)\n",
      "\n",
      "QObject::moveToThread: Current thread (0x55806d5017a0) is not the object's thread (0x55806d8e21c0).\n",
      "Cannot move to target thread (0x55806d5017a0)\n",
      "\n",
      "QObject::moveToThread: Current thread (0x55806d5017a0) is not the object's thread (0x55806d8e21c0).\n",
      "Cannot move to target thread (0x55806d5017a0)\n",
      "\n",
      "QObject::moveToThread: Current thread (0x55806d5017a0) is not the object's thread (0x55806d8e21c0).\n",
      "Cannot move to target thread (0x55806d5017a0)\n",
      "\n",
      "QObject::moveToThread: Current thread (0x55806d5017a0) is not the object's thread (0x55806d8e21c0).\n",
      "Cannot move to target thread (0x55806d5017a0)\n",
      "\n",
      "QObject::moveToThread: Current thread (0x55806d5017a0) is not the object's thread (0x55806d8e21c0).\n",
      "Cannot move to target thread (0x55806d5017a0)\n",
      "\n",
      "QObject::moveToThread: Current thread (0x55806d5017a0) is not the object's thread (0x55806d8e21c0).\n",
      "Cannot move to target thread (0x55806d5017a0)\n",
      "\n",
      "QObject::moveToThread: Current thread (0x55806d5017a0) is not the object's thread (0x55806d8e21c0).\n",
      "Cannot move to target thread (0x55806d5017a0)\n",
      "\n",
      "QObject::moveToThread: Current thread (0x55806d5017a0) is not the object's thread (0x55806d8e21c0).\n",
      "Cannot move to target thread (0x55806d5017a0)\n",
      "\n",
      "QObject::moveToThread: Current thread (0x55806d5017a0) is not the object's thread (0x55806d8e21c0).\n",
      "Cannot move to target thread (0x55806d5017a0)\n",
      "\n",
      "QObject::moveToThread: Current thread (0x55806d5017a0) is not the object's thread (0x55806d8e21c0).\n",
      "Cannot move to target thread (0x55806d5017a0)\n",
      "\n",
      "QObject::moveToThread: Current thread (0x55806d5017a0) is not the object's thread (0x55806d8e21c0).\n",
      "Cannot move to target thread (0x55806d5017a0)\n",
      "\n",
      "QObject::moveToThread: Current thread (0x55806d5017a0) is not the object's thread (0x55806d8e21c0).\n",
      "Cannot move to target thread (0x55806d5017a0)\n",
      "\n",
      "QObject::moveToThread: Current thread (0x55806d5017a0) is not the object's thread (0x55806d8e21c0).\n",
      "Cannot move to target thread (0x55806d5017a0)\n",
      "\n",
      "QObject::moveToThread: Current thread (0x55806d5017a0) is not the object's thread (0x55806d8e21c0).\n",
      "Cannot move to target thread (0x55806d5017a0)\n",
      "\n",
      "QObject::moveToThread: Current thread (0x55806d5017a0) is not the object's thread (0x55806d8e21c0).\n",
      "Cannot move to target thread (0x55806d5017a0)\n",
      "\n",
      "QObject::moveToThread: Current thread (0x55806d5017a0) is not the object's thread (0x55806d8e21c0).\n",
      "Cannot move to target thread (0x55806d5017a0)\n",
      "\n",
      "QObject::moveToThread: Current thread (0x55806d5017a0) is not the object's thread (0x55806d8e21c0).\n",
      "Cannot move to target thread (0x55806d5017a0)\n",
      "\n",
      "QObject::moveToThread: Current thread (0x55806d5017a0) is not the object's thread (0x55806d8e21c0).\n",
      "Cannot move to target thread (0x55806d5017a0)\n",
      "\n",
      "QObject::moveToThread: Current thread (0x55806d5017a0) is not the object's thread (0x55806d8e21c0).\n",
      "Cannot move to target thread (0x55806d5017a0)\n",
      "\n",
      "QObject::moveToThread: Current thread (0x55806d5017a0) is not the object's thread (0x55806d8e21c0).\n",
      "Cannot move to target thread (0x55806d5017a0)\n",
      "\n",
      "QObject::moveToThread: Current thread (0x55806d5017a0) is not the object's thread (0x55806d8e21c0).\n",
      "Cannot move to target thread (0x55806d5017a0)\n",
      "\n",
      "QObject::moveToThread: Current thread (0x55806d5017a0) is not the object's thread (0x55806d8e21c0).\n",
      "Cannot move to target thread (0x55806d5017a0)\n",
      "\n",
      "QObject::moveToThread: Current thread (0x55806d5017a0) is not the object's thread (0x55806d8e21c0).\n",
      "Cannot move to target thread (0x55806d5017a0)\n",
      "\n",
      "QObject::moveToThread: Current thread (0x55806d5017a0) is not the object's thread (0x55806d8e21c0).\n",
      "Cannot move to target thread (0x55806d5017a0)\n",
      "\n",
      "QObject::moveToThread: Current thread (0x55806d5017a0) is not the object's thread (0x55806d8e21c0).\n",
      "Cannot move to target thread (0x55806d5017a0)\n",
      "\n",
      "QObject::moveToThread: Current thread (0x55806d5017a0) is not the object's thread (0x55806d8e21c0).\n",
      "Cannot move to target thread (0x55806d5017a0)\n",
      "\n",
      "QObject::moveToThread: Current thread (0x55806d5017a0) is not the object's thread (0x55806d8e21c0).\n",
      "Cannot move to target thread (0x55806d5017a0)\n",
      "\n",
      "QObject::moveToThread: Current thread (0x55806d5017a0) is not the object's thread (0x55806d8e21c0).\n",
      "Cannot move to target thread (0x55806d5017a0)\n",
      "\n",
      "QObject::moveToThread: Current thread (0x55806d5017a0) is not the object's thread (0x55806d8e21c0).\n",
      "Cannot move to target thread (0x55806d5017a0)\n",
      "\n",
      "QObject::moveToThread: Current thread (0x55806d5017a0) is not the object's thread (0x55806d8e21c0).\n",
      "Cannot move to target thread (0x55806d5017a0)\n",
      "\n",
      "QObject::moveToThread: Current thread (0x55806d5017a0) is not the object's thread (0x55806d8e21c0).\n",
      "Cannot move to target thread (0x55806d5017a0)\n",
      "\n",
      "QObject::moveToThread: Current thread (0x55806d5017a0) is not the object's thread (0x55806d8e21c0).\n",
      "Cannot move to target thread (0x55806d5017a0)\n",
      "\n",
      "QObject::moveToThread: Current thread (0x55806d5017a0) is not the object's thread (0x55806d8e21c0).\n",
      "Cannot move to target thread (0x55806d5017a0)\n",
      "\n",
      "QObject::moveToThread: Current thread (0x55806d5017a0) is not the object's thread (0x55806d8e21c0).\n",
      "Cannot move to target thread (0x55806d5017a0)\n",
      "\n",
      "QObject::moveToThread: Current thread (0x55806d5017a0) is not the object's thread (0x55806d8e21c0).\n",
      "Cannot move to target thread (0x55806d5017a0)\n",
      "\n",
      "QObject::moveToThread: Current thread (0x55806d5017a0) is not the object's thread (0x55806d8e21c0).\n",
      "Cannot move to target thread (0x55806d5017a0)\n",
      "\n",
      "QObject::moveToThread: Current thread (0x55806d5017a0) is not the object's thread (0x55806d8e21c0).\n",
      "Cannot move to target thread (0x55806d5017a0)\n",
      "\n",
      "QObject::moveToThread: Current thread (0x55806d5017a0) is not the object's thread (0x55806d8e21c0).\n",
      "Cannot move to target thread (0x55806d5017a0)\n",
      "\n",
      "QObject::moveToThread: Current thread (0x55806d5017a0) is not the object's thread (0x55806d8e21c0).\n",
      "Cannot move to target thread (0x55806d5017a0)\n",
      "\n",
      "QObject::moveToThread: Current thread (0x55806d5017a0) is not the object's thread (0x55806d8e21c0).\n",
      "Cannot move to target thread (0x55806d5017a0)\n",
      "\n",
      "QObject::moveToThread: Current thread (0x55806d5017a0) is not the object's thread (0x55806d8e21c0).\n",
      "Cannot move to target thread (0x55806d5017a0)\n",
      "\n",
      "QObject::moveToThread: Current thread (0x55806d5017a0) is not the object's thread (0x55806d8e21c0).\n",
      "Cannot move to target thread (0x55806d5017a0)\n",
      "\n",
      "QObject::moveToThread: Current thread (0x55806d5017a0) is not the object's thread (0x55806d8e21c0).\n",
      "Cannot move to target thread (0x55806d5017a0)\n",
      "\n",
      "QObject::moveToThread: Current thread (0x55806d5017a0) is not the object's thread (0x55806d8e21c0).\n",
      "Cannot move to target thread (0x55806d5017a0)\n",
      "\n",
      "QObject::moveToThread: Current thread (0x55806d5017a0) is not the object's thread (0x55806d8e21c0).\n",
      "Cannot move to target thread (0x55806d5017a0)\n",
      "\n",
      "QObject::moveToThread: Current thread (0x55806d5017a0) is not the object's thread (0x55806d8e21c0).\n",
      "Cannot move to target thread (0x55806d5017a0)\n",
      "\n",
      "QObject::moveToThread: Current thread (0x55806d5017a0) is not the object's thread (0x55806d8e21c0).\n",
      "Cannot move to target thread (0x55806d5017a0)\n",
      "\n",
      "QObject::moveToThread: Current thread (0x55806d5017a0) is not the object's thread (0x55806d8e21c0).\n",
      "Cannot move to target thread (0x55806d5017a0)\n",
      "\n",
      "QObject::moveToThread: Current thread (0x55806d5017a0) is not the object's thread (0x55806d8e21c0).\n",
      "Cannot move to target thread (0x55806d5017a0)\n",
      "\n",
      "QObject::moveToThread: Current thread (0x55806d5017a0) is not the object's thread (0x55806d8e21c0).\n",
      "Cannot move to target thread (0x55806d5017a0)\n",
      "\n",
      "QObject::moveToThread: Current thread (0x55806d5017a0) is not the object's thread (0x55806d8e21c0).\n",
      "Cannot move to target thread (0x55806d5017a0)\n",
      "\n",
      "QObject::moveToThread: Current thread (0x55806d5017a0) is not the object's thread (0x55806d8e21c0).\n",
      "Cannot move to target thread (0x55806d5017a0)\n",
      "\n",
      "QObject::moveToThread: Current thread (0x55806d5017a0) is not the object's thread (0x55806d8e21c0).\n",
      "Cannot move to target thread (0x55806d5017a0)\n",
      "\n",
      "QObject::moveToThread: Current thread (0x55806d5017a0) is not the object's thread (0x55806d8e21c0).\n",
      "Cannot move to target thread (0x55806d5017a0)\n",
      "\n",
      "QObject::moveToThread: Current thread (0x55806d5017a0) is not the object's thread (0x55806d8e21c0).\n",
      "Cannot move to target thread (0x55806d5017a0)\n",
      "\n",
      "QObject::moveToThread: Current thread (0x55806d5017a0) is not the object's thread (0x55806d8e21c0).\n",
      "Cannot move to target thread (0x55806d5017a0)\n",
      "\n",
      "QObject::moveToThread: Current thread (0x55806d5017a0) is not the object's thread (0x55806d8e21c0).\n",
      "Cannot move to target thread (0x55806d5017a0)\n",
      "\n",
      "QObject::moveToThread: Current thread (0x55806d5017a0) is not the object's thread (0x55806d8e21c0).\n",
      "Cannot move to target thread (0x55806d5017a0)\n",
      "\n"
     ]
    }
   ],
   "source": [
    "# Establish a connection to the webcam\n",
    "cap = cv2.VideoCapture(0)\n",
    "while cap.isOpened(): \n",
    "    ret, frame = cap.read()\n",
    "   \n",
    "    # Cut down frame to 250x250px\n",
    "    frame = frame[120:120+250,200:200+250, :]\n",
    "    \n",
    "    # Collect anchors \n",
    "    if cv2.waitKey(1) & 0XFF == ord('a'):\n",
    "        # Create the unique file path \n",
    "        imgname = os.path.join(ANC_PATH, '{}.jpg'.format(uuid.uuid1()))\n",
    "        # Write out anchor image\n",
    "        cv2.imwrite(imgname, frame)\n",
    "    \n",
    "    # Collect positives\n",
    "    if cv2.waitKey(1) & 0XFF == ord('p'):\n",
    "        # Create the unique file path \n",
    "        imgname = os.path.join(POS_PATH, '{}.jpg'.format(uuid.uuid1()))\n",
    "        # Write out positive image\n",
    "        cv2.imwrite(imgname, frame)\n",
    "    \n",
    "    # Show image back to screen\n",
    "    cv2.imshow('Image Collection', frame)\n",
    "    \n",
    "    # Breaking gracefully\n",
    "    if cv2.waitKey(1) & 0XFF == ord('q'):\n",
    "        break\n",
    "        \n",
    "# Release the webcam\n",
    "cap.release()\n",
    "# Close the image show frame\n",
    "cv2.destroyAllWindows()"
   ]
  },
  {
   "cell_type": "code",
   "execution_count": 35,
   "id": "61779946",
   "metadata": {},
   "outputs": [],
   "source": [
    "# plt.imshow(frame[0:250,0:250, :])"
   ]
  },
  {
   "cell_type": "markdown",
   "id": "337b78e9",
   "metadata": {},
   "source": [
    "### New Augmented Data"
   ]
  },
  {
   "cell_type": "code",
   "execution_count": 36,
   "id": "9be5e7c7",
   "metadata": {},
   "outputs": [],
   "source": [
    "def data_aug(img):\n",
    "    data = []\n",
    "    for i in range(9):\n",
    "        img = tf.image.stateless_random_brightness(img, max_delta=0.02, seed=(1,2))\n",
    "        img = tf.image.stateless_random_contrast(img, lower=0.6, upper=1, seed=(1,3))\n",
    "        # img = tf.image.stateless_random_crop(img, size=(20,20,3), seed=(1,2))\n",
    "        img = tf.image.stateless_random_flip_left_right(img, seed=(np.random.randint(100),np.random.randint(100)))\n",
    "        img = tf.image.stateless_random_jpeg_quality(img, min_jpeg_quality=90, max_jpeg_quality=100, seed=(np.random.randint(100),np.random.randint(100)))\n",
    "        img = tf.image.stateless_random_saturation(img, lower=0.9,upper=1, seed=(np.random.randint(100),np.random.randint(100)))\n",
    "            \n",
    "        data.append(img)\n",
    "    \n",
    "    return data"
   ]
  },
  {
   "cell_type": "code",
   "execution_count": 37,
   "id": "b3bf250b",
   "metadata": {},
   "outputs": [],
   "source": [
    "import os\n",
    "import uuid"
   ]
  },
  {
   "cell_type": "code",
   "execution_count": 39,
   "id": "5dc946be",
   "metadata": {},
   "outputs": [],
   "source": [
    "img_path = os.path.join(ANC_PATH, '3a98b982-52d7-11ed-aeb1-91af58059082.jpg')\n",
    "img = cv2.imread(img_path)\n",
    "augmented_images = data_aug(img)\n",
    "\n",
    "for image in augmented_images:\n",
    "    cv2.imwrite(os.path.join(ANC_PATH, '{}.jpg'.format(uuid.uuid1())), image.numpy())"
   ]
  },
  {
   "cell_type": "code",
   "execution_count": 40,
   "id": "140594a1",
   "metadata": {},
   "outputs": [],
   "source": [
    "for file_name in os.listdir(os.path.join(POS_PATH)):\n",
    "    img_path = os.path.join(POS_PATH, file_name)\n",
    "    img = cv2.imread(img_path)\n",
    "    augmented_images = data_aug(img) \n",
    "    \n",
    "    for image in augmented_images:\n",
    "        cv2.imwrite(os.path.join(POS_PATH, '{}.jpg'.format(uuid.uuid1())), image.numpy())"
   ]
  },
  {
   "cell_type": "markdown",
   "id": "ce970118",
   "metadata": {},
   "source": [
    "## Loading & Preprocessing Images"
   ]
  },
  {
   "cell_type": "code",
   "execution_count": 64,
   "id": "8bd3b5ad",
   "metadata": {},
   "outputs": [],
   "source": [
    "anchor = tf.data.Dataset.list_files(ANC_PATH+'/*.jpg').take(3000)\n",
    "positive = tf.data.Dataset.list_files(POS_PATH+'/*.jpg').take(3000)\n",
    "negative = tf.data.Dataset.list_files(NEG_PATH+'/*.jpg').take(3000)"
   ]
  },
  {
   "cell_type": "code",
   "execution_count": 68,
   "id": "5ccc04ba",
   "metadata": {},
   "outputs": [],
   "source": [
    "dir_test = anchor.as_numpy_iterator()"
   ]
  },
  {
   "cell_type": "code",
   "execution_count": 69,
   "id": "2584e256",
   "metadata": {},
   "outputs": [
    {
     "name": "stdout",
     "output_type": "stream",
     "text": [
      "b'data/anchor/d2d964a8-52d7-11ed-aeb1-91af58059082.jpg'\n"
     ]
    }
   ],
   "source": [
    "print(dir_test.next())"
   ]
  },
  {
   "cell_type": "markdown",
   "id": "411f9800",
   "metadata": {},
   "source": [
    "## Processing Images"
   ]
  },
  {
   "cell_type": "code",
   "execution_count": 3,
   "id": "f1efdf90",
   "metadata": {},
   "outputs": [],
   "source": [
    "def preprocess(file_path):\n",
    "    \n",
    "    # Read in image from file path\n",
    "    byte_img = tf.io.read_file(file_path)\n",
    "    # Load in the image \n",
    "    img = tf.io.decode_jpeg(byte_img)\n",
    "    \n",
    "    # Preprocessing steps - resizing the image to be 100x100x3\n",
    "    img = tf.image.resize(img, (100,100))\n",
    "    # Scale image to be between 0 and 1 \n",
    "    img = img / 255.0\n",
    "\n",
    "    # Return image\n",
    "    return img"
   ]
  },
  {
   "cell_type": "code",
   "execution_count": 72,
   "id": "04db1dba",
   "metadata": {},
   "outputs": [],
   "source": [
    "img = preprocess('data//anchor//d2d964a8-52d7-11ed-aeb1-91af58059082.jpg')"
   ]
  },
  {
   "cell_type": "code",
   "execution_count": 73,
   "id": "0c35d079",
   "metadata": {},
   "outputs": [
    {
     "data": {
      "text/plain": [
       "0.78357846"
      ]
     },
     "execution_count": 73,
     "metadata": {},
     "output_type": "execute_result"
    }
   ],
   "source": [
    "img.numpy().max()"
   ]
  },
  {
   "cell_type": "markdown",
   "id": "31a7f5c0",
   "metadata": {},
   "source": [
    "### Creating Labelled Dataset"
   ]
  },
  {
   "cell_type": "code",
   "execution_count": null,
   "id": "07ee8f1e",
   "metadata": {},
   "outputs": [],
   "source": [
    "# (anchor, positive) => 1,1,1,1,1\n",
    "# (anchor, negative) => 0,0,0,0,0"
   ]
  },
  {
   "cell_type": "code",
   "execution_count": 75,
   "id": "ba332190",
   "metadata": {},
   "outputs": [],
   "source": [
    "positives = tf.data.Dataset.zip((anchor, positive, tf.data.Dataset.from_tensor_slices(tf.ones(len(anchor)))))\n",
    "negatives = tf.data.Dataset.zip((anchor, negative, tf.data.Dataset.from_tensor_slices(tf.zeros(len(anchor)))))\n",
    "data = positives.concatenate(negatives)"
   ]
  },
  {
   "cell_type": "code",
   "execution_count": 86,
   "id": "543fad10",
   "metadata": {},
   "outputs": [],
   "source": [
    "samples = data.as_numpy_iterator()"
   ]
  },
  {
   "cell_type": "code",
   "execution_count": 87,
   "id": "f77217f8",
   "metadata": {},
   "outputs": [],
   "source": [
    "example = samples.next()"
   ]
  },
  {
   "cell_type": "code",
   "execution_count": 88,
   "id": "6592ffb0",
   "metadata": {},
   "outputs": [
    {
     "data": {
      "text/plain": [
       "(b'data/anchor/dc702fa4-52d4-11ed-aeb1-91af58059082.jpg',\n",
       " b'data/positive/9d4c4b26-52d6-11ed-aeb1-91af58059082.jpg',\n",
       " 1.0)"
      ]
     },
     "execution_count": 88,
     "metadata": {},
     "output_type": "execute_result"
    }
   ],
   "source": [
    "example"
   ]
  },
  {
   "cell_type": "markdown",
   "id": "79dd38c9",
   "metadata": {},
   "source": [
    "### Build Train and Test Partition"
   ]
  },
  {
   "cell_type": "code",
   "execution_count": 89,
   "id": "ea3a4b46",
   "metadata": {},
   "outputs": [],
   "source": [
    "def preprocess_twin(input_img, validation_img, label):\n",
    "    return(preprocess(input_img), preprocess(validation_img), label)"
   ]
  },
  {
   "cell_type": "code",
   "execution_count": 90,
   "id": "15c27be2",
   "metadata": {},
   "outputs": [],
   "source": [
    "res = preprocess_twin(*example)"
   ]
  },
  {
   "cell_type": "code",
   "execution_count": 95,
   "id": "36f3e0c5",
   "metadata": {},
   "outputs": [],
   "source": [
    "# plt.imshow(res[1])"
   ]
  },
  {
   "cell_type": "code",
   "execution_count": 96,
   "id": "6163d4b5",
   "metadata": {},
   "outputs": [
    {
     "data": {
      "text/plain": [
       "1.0"
      ]
     },
     "execution_count": 96,
     "metadata": {},
     "output_type": "execute_result"
    }
   ],
   "source": [
    "res[2]"
   ]
  },
  {
   "cell_type": "code",
   "execution_count": 97,
   "id": "05360d4e",
   "metadata": {},
   "outputs": [],
   "source": [
    "# Build dataloader pipeline\n",
    "\n",
    "data = data.map(preprocess_twin)\n",
    "data = data.cache()\n",
    "data = data.shuffle(buffer_size=10000)"
   ]
  },
  {
   "cell_type": "code",
   "execution_count": 98,
   "id": "04d14ef5",
   "metadata": {},
   "outputs": [],
   "source": [
    "# Training partition\n",
    "\n",
    "train_data = data.take(round(len(data)*.7))\n",
    "train_data = train_data.batch(16)\n",
    "train_data = train_data.prefetch(8)"
   ]
  },
  {
   "cell_type": "code",
   "execution_count": 99,
   "id": "157e989e",
   "metadata": {},
   "outputs": [],
   "source": [
    "# Testing partition\n",
    "\n",
    "test_data = data.skip(round(len(data)*.7))\n",
    "test_data = test_data.take(round(len(data)*.3))\n",
    "test_data = test_data.batch(16)\n",
    "test_data = test_data.prefetch(8)"
   ]
  },
  {
   "cell_type": "markdown",
   "id": "db0b0521",
   "metadata": {},
   "source": [
    "## Model Setup"
   ]
  },
  {
   "cell_type": "code",
   "execution_count": 4,
   "id": "b7dec732",
   "metadata": {},
   "outputs": [],
   "source": [
    "inp = Input(shape=(100,100,3), name='input_image')"
   ]
  },
  {
   "cell_type": "code",
   "execution_count": 5,
   "id": "8f69a450",
   "metadata": {},
   "outputs": [
    {
     "name": "stderr",
     "output_type": "stream",
     "text": [
      "2022-10-25 20:04:32.943289: I tensorflow/core/platform/cpu_feature_guard.cc:151] This TensorFlow binary is optimized with oneAPI Deep Neural Network Library (oneDNN) to use the following CPU instructions in performance-critical operations:  AVX2 FMA\n",
      "To enable them in other operations, rebuild TensorFlow with the appropriate compiler flags.\n"
     ]
    }
   ],
   "source": [
    "c1 = Conv2D(64, (10,10), activation='relu')(inp)\n",
    "m1 = MaxPooling2D(64, (2,2), padding='same')(c1)\n",
    "\n",
    "c2 = Conv2D(128, (7,7), activation='relu')(m1)\n",
    "m2 = MaxPooling2D(64, (2,2), padding='same')(c2)\n",
    "\n",
    "c3 = Conv2D(128, (4,4), activation='relu')(m2)\n",
    "m3 = MaxPooling2D(64, (2,2), padding='same')(c3)\n",
    "\n",
    "c4 = Conv2D(256, (4,4), activation='relu')(m3)\n",
    "f1 = Flatten()(c4)\n",
    "d1 = Dense(4096, activation='sigmoid')(f1)"
   ]
  },
  {
   "cell_type": "code",
   "execution_count": 6,
   "id": "ae507ee3",
   "metadata": {},
   "outputs": [],
   "source": [
    "mod = Model(inputs=[inp], outputs=[d1], name='embedding')"
   ]
  },
  {
   "cell_type": "code",
   "execution_count": 7,
   "id": "fecb32ce",
   "metadata": {},
   "outputs": [
    {
     "name": "stdout",
     "output_type": "stream",
     "text": [
      "Model: \"embedding\"\n",
      "_________________________________________________________________\n",
      " Layer (type)                Output Shape              Param #   \n",
      "=================================================================\n",
      " input_image (InputLayer)    [(None, 100, 100, 3)]     0         \n",
      "                                                                 \n",
      " conv2d (Conv2D)             (None, 91, 91, 64)        19264     \n",
      "                                                                 \n",
      " max_pooling2d (MaxPooling2D  (None, 46, 46, 64)       0         \n",
      " )                                                               \n",
      "                                                                 \n",
      " conv2d_1 (Conv2D)           (None, 40, 40, 128)       401536    \n",
      "                                                                 \n",
      " max_pooling2d_1 (MaxPooling  (None, 20, 20, 128)      0         \n",
      " 2D)                                                             \n",
      "                                                                 \n",
      " conv2d_2 (Conv2D)           (None, 17, 17, 128)       262272    \n",
      "                                                                 \n",
      " max_pooling2d_2 (MaxPooling  (None, 9, 9, 128)        0         \n",
      " 2D)                                                             \n",
      "                                                                 \n",
      " conv2d_3 (Conv2D)           (None, 6, 6, 256)         524544    \n",
      "                                                                 \n",
      " flatten (Flatten)           (None, 9216)              0         \n",
      "                                                                 \n",
      " dense (Dense)               (None, 4096)              37752832  \n",
      "                                                                 \n",
      "=================================================================\n",
      "Total params: 38,960,448\n",
      "Trainable params: 38,960,448\n",
      "Non-trainable params: 0\n",
      "_________________________________________________________________\n"
     ]
    }
   ],
   "source": [
    "mod.summary()"
   ]
  },
  {
   "cell_type": "code",
   "execution_count": 8,
   "id": "479d5e95",
   "metadata": {},
   "outputs": [],
   "source": [
    "def make_embedding(): \n",
    "    inp = Input(shape=(100,100,3), name='input_image')\n",
    "    \n",
    "    # First block\n",
    "    c1 = Conv2D(64, (10,10), activation='relu')(inp)\n",
    "    m1 = MaxPooling2D(64, (2,2), padding='same')(c1)\n",
    "    \n",
    "    # Second block\n",
    "    c2 = Conv2D(128, (7,7), activation='relu')(m1)\n",
    "    m2 = MaxPooling2D(64, (2,2), padding='same')(c2)\n",
    "    \n",
    "    # Third block \n",
    "    c3 = Conv2D(128, (4,4), activation='relu')(m2)\n",
    "    m3 = MaxPooling2D(64, (2,2), padding='same')(c3)\n",
    "    \n",
    "    # Final embedding block\n",
    "    c4 = Conv2D(256, (4,4), activation='relu')(m3)\n",
    "    f1 = Flatten()(c4)\n",
    "    d1 = Dense(4096, activation='sigmoid')(f1)\n",
    "    \n",
    "    \n",
    "    return Model(inputs=[inp], outputs=[d1], name='embedding')"
   ]
  },
  {
   "cell_type": "code",
   "execution_count": 9,
   "id": "0a293a65",
   "metadata": {},
   "outputs": [],
   "source": [
    "embedding = make_embedding()"
   ]
  },
  {
   "cell_type": "code",
   "execution_count": 10,
   "id": "8bf994c4",
   "metadata": {},
   "outputs": [
    {
     "name": "stdout",
     "output_type": "stream",
     "text": [
      "Model: \"embedding\"\n",
      "_________________________________________________________________\n",
      " Layer (type)                Output Shape              Param #   \n",
      "=================================================================\n",
      " input_image (InputLayer)    [(None, 100, 100, 3)]     0         \n",
      "                                                                 \n",
      " conv2d_4 (Conv2D)           (None, 91, 91, 64)        19264     \n",
      "                                                                 \n",
      " max_pooling2d_3 (MaxPooling  (None, 46, 46, 64)       0         \n",
      " 2D)                                                             \n",
      "                                                                 \n",
      " conv2d_5 (Conv2D)           (None, 40, 40, 128)       401536    \n",
      "                                                                 \n",
      " max_pooling2d_4 (MaxPooling  (None, 20, 20, 128)      0         \n",
      " 2D)                                                             \n",
      "                                                                 \n",
      " conv2d_6 (Conv2D)           (None, 17, 17, 128)       262272    \n",
      "                                                                 \n",
      " max_pooling2d_5 (MaxPooling  (None, 9, 9, 128)        0         \n",
      " 2D)                                                             \n",
      "                                                                 \n",
      " conv2d_7 (Conv2D)           (None, 6, 6, 256)         524544    \n",
      "                                                                 \n",
      " flatten_1 (Flatten)         (None, 9216)              0         \n",
      "                                                                 \n",
      " dense_1 (Dense)             (None, 4096)              37752832  \n",
      "                                                                 \n",
      "=================================================================\n",
      "Total params: 38,960,448\n",
      "Trainable params: 38,960,448\n",
      "Non-trainable params: 0\n",
      "_________________________________________________________________\n"
     ]
    }
   ],
   "source": [
    "embedding.summary()"
   ]
  },
  {
   "cell_type": "markdown",
   "id": "75e1bab9",
   "metadata": {},
   "source": [
    "### Building Distance Layer"
   ]
  },
  {
   "cell_type": "code",
   "execution_count": 11,
   "id": "67009f7c",
   "metadata": {},
   "outputs": [],
   "source": [
    "# Siamese L1 Distance class\n",
    "\n",
    "class L1Dist(Layer):\n",
    "    \n",
    "    # Init method - inheritance\n",
    "    def __init__(self, **kwargs):\n",
    "        super().__init__()\n",
    "       \n",
    "    # Magic happens here - similarity calculation\n",
    "    def call(self, input_embedding, validation_embedding):\n",
    "        return tf.math.abs(input_embedding - validation_embedding)"
   ]
  },
  {
   "cell_type": "code",
   "execution_count": 12,
   "id": "dfbe41b3",
   "metadata": {},
   "outputs": [],
   "source": [
    "l1 = L1Dist()"
   ]
  },
  {
   "cell_type": "markdown",
   "id": "c0c10de2",
   "metadata": {},
   "source": [
    "### Making Siamese Model"
   ]
  },
  {
   "cell_type": "code",
   "execution_count": 13,
   "id": "13f1e8b4",
   "metadata": {},
   "outputs": [],
   "source": [
    "input_image = Input(name='input_img', shape=(100,100,3))\n",
    "validation_image = Input(name='validation_img', shape=(100,100,3))"
   ]
  },
  {
   "cell_type": "code",
   "execution_count": 14,
   "id": "994b42cf",
   "metadata": {},
   "outputs": [],
   "source": [
    "inp_embedding = embedding(input_image)\n",
    "val_embedding = embedding(validation_image)"
   ]
  },
  {
   "cell_type": "code",
   "execution_count": 15,
   "id": "a7e187fd",
   "metadata": {},
   "outputs": [],
   "source": [
    "siamese_layer = L1Dist()"
   ]
  },
  {
   "cell_type": "code",
   "execution_count": 16,
   "id": "aa8675c0",
   "metadata": {},
   "outputs": [],
   "source": [
    "distances = siamese_layer(inp_embedding, val_embedding)"
   ]
  },
  {
   "cell_type": "code",
   "execution_count": 17,
   "id": "f330de63",
   "metadata": {},
   "outputs": [],
   "source": [
    "classifier = Dense(1, activation='sigmoid')(distances)"
   ]
  },
  {
   "cell_type": "code",
   "execution_count": 18,
   "id": "39f41c67",
   "metadata": {},
   "outputs": [
    {
     "data": {
      "text/plain": [
       "<KerasTensor: shape=(None, 1) dtype=float32 (created by layer 'dense_2')>"
      ]
     },
     "execution_count": 18,
     "metadata": {},
     "output_type": "execute_result"
    }
   ],
   "source": [
    "classifier"
   ]
  },
  {
   "cell_type": "code",
   "execution_count": 19,
   "id": "48c39d1b",
   "metadata": {},
   "outputs": [],
   "source": [
    "siamese_network = Model(inputs=[input_image, validation_image], outputs=classifier, name='SiameseNetwork')"
   ]
  },
  {
   "cell_type": "code",
   "execution_count": 20,
   "id": "4a916dda",
   "metadata": {},
   "outputs": [
    {
     "name": "stdout",
     "output_type": "stream",
     "text": [
      "Model: \"SiameseNetwork\"\n",
      "__________________________________________________________________________________________________\n",
      " Layer (type)                   Output Shape         Param #     Connected to                     \n",
      "==================================================================================================\n",
      " input_img (InputLayer)         [(None, 100, 100, 3  0           []                               \n",
      "                                )]                                                                \n",
      "                                                                                                  \n",
      " validation_img (InputLayer)    [(None, 100, 100, 3  0           []                               \n",
      "                                )]                                                                \n",
      "                                                                                                  \n",
      " embedding (Functional)         (None, 4096)         38960448    ['input_img[0][0]',              \n",
      "                                                                  'validation_img[0][0]']         \n",
      "                                                                                                  \n",
      " l1_dist_1 (L1Dist)             (None, 4096)         0           ['embedding[0][0]',              \n",
      "                                                                  'embedding[1][0]']              \n",
      "                                                                                                  \n",
      " dense_2 (Dense)                (None, 1)            4097        ['l1_dist_1[0][0]']              \n",
      "                                                                                                  \n",
      "==================================================================================================\n",
      "Total params: 38,964,545\n",
      "Trainable params: 38,964,545\n",
      "Non-trainable params: 0\n",
      "__________________________________________________________________________________________________\n"
     ]
    }
   ],
   "source": [
    "siamese_network.summary()"
   ]
  },
  {
   "cell_type": "code",
   "execution_count": 21,
   "id": "35543bc9",
   "metadata": {},
   "outputs": [],
   "source": [
    "def make_siamese_model(): \n",
    "    \n",
    "    # Anchor image input in the network\n",
    "    input_image = Input(name='input_img', shape=(100,100,3))\n",
    "    \n",
    "    # Validation image in the network \n",
    "    validation_image = Input(name='validation_img', shape=(100,100,3))\n",
    "    \n",
    "    # Combine siamese distance components\n",
    "    siamese_layer = L1Dist()\n",
    "    siamese_layer._name = 'distance'\n",
    "    distances = siamese_layer(embedding(input_image), embedding(validation_image))\n",
    "    \n",
    "    # Classification layer \n",
    "    classifier = Dense(1, activation='sigmoid')(distances)\n",
    "    \n",
    "    return Model(inputs=[input_image, validation_image], outputs=classifier, name='SiameseNetwork')"
   ]
  },
  {
   "cell_type": "code",
   "execution_count": 22,
   "id": "fc813143",
   "metadata": {},
   "outputs": [],
   "source": [
    "siamese_model = make_siamese_model()"
   ]
  },
  {
   "cell_type": "code",
   "execution_count": 23,
   "id": "ccee4971",
   "metadata": {},
   "outputs": [
    {
     "name": "stdout",
     "output_type": "stream",
     "text": [
      "Model: \"SiameseNetwork\"\n",
      "__________________________________________________________________________________________________\n",
      " Layer (type)                   Output Shape         Param #     Connected to                     \n",
      "==================================================================================================\n",
      " input_img (InputLayer)         [(None, 100, 100, 3  0           []                               \n",
      "                                )]                                                                \n",
      "                                                                                                  \n",
      " validation_img (InputLayer)    [(None, 100, 100, 3  0           []                               \n",
      "                                )]                                                                \n",
      "                                                                                                  \n",
      " embedding (Functional)         (None, 4096)         38960448    ['input_img[0][0]',              \n",
      "                                                                  'validation_img[0][0]']         \n",
      "                                                                                                  \n",
      " distance (L1Dist)              (None, 4096)         0           ['embedding[2][0]',              \n",
      "                                                                  'embedding[3][0]']              \n",
      "                                                                                                  \n",
      " dense_3 (Dense)                (None, 1)            4097        ['distance[0][0]']               \n",
      "                                                                                                  \n",
      "==================================================================================================\n",
      "Total params: 38,964,545\n",
      "Trainable params: 38,964,545\n",
      "Non-trainable params: 0\n",
      "__________________________________________________________________________________________________\n"
     ]
    }
   ],
   "source": [
    "siamese_model.summary()"
   ]
  },
  {
   "cell_type": "markdown",
   "id": "f2efd0cb",
   "metadata": {},
   "source": [
    "## Training"
   ]
  },
  {
   "cell_type": "code",
   "execution_count": 127,
   "id": "e7689646",
   "metadata": {},
   "outputs": [],
   "source": [
    "# Setting up Loss and Optimizer\n",
    "\n",
    "binary_cross_loss = tf.losses.BinaryCrossentropy()\n",
    "opt = tf.keras.optimizers.Adam(1e-4) # 0.0001"
   ]
  },
  {
   "cell_type": "code",
   "execution_count": 128,
   "id": "a9f55118",
   "metadata": {},
   "outputs": [],
   "source": [
    "# Establishing checkpoints\n",
    "\n",
    "checkpoint_dir = './training_checkpoints'\n",
    "checkpoint_prefix = os.path.join(checkpoint_dir, 'ckpt')\n",
    "checkpoint = tf.train.Checkpoint(opt=opt, siamese_model=siamese_model)"
   ]
  },
  {
   "cell_type": "code",
   "execution_count": 129,
   "id": "524dd1af",
   "metadata": {},
   "outputs": [],
   "source": [
    "# Train Setup function\n",
    "\n",
    "test_batch = train_data.as_numpy_iterator()\n",
    "batch_1 = test_batch.next()\n",
    "X = batch_1[:2]\n",
    "y = batch_1[2]"
   ]
  },
  {
   "cell_type": "code",
   "execution_count": 130,
   "id": "9e41a19a",
   "metadata": {},
   "outputs": [
    {
     "data": {
      "text/plain": [
       "array([1., 1., 0., 0., 1., 1., 1., 1., 1., 0., 1., 1., 0., 0., 1., 1.],\n",
       "      dtype=float32)"
      ]
     },
     "execution_count": 130,
     "metadata": {},
     "output_type": "execute_result"
    }
   ],
   "source": [
    "y"
   ]
  },
  {
   "cell_type": "code",
   "execution_count": 131,
   "id": "ae789bfa",
   "metadata": {},
   "outputs": [],
   "source": [
    "@tf.function\n",
    "def train_step(batch):\n",
    "    \n",
    "    # Record all of our operations \n",
    "    with tf.GradientTape() as tape:     \n",
    "        # Get anchor and positive/negative image\n",
    "        X = batch[:2]\n",
    "        # Get label\n",
    "        y = batch[2]\n",
    "        \n",
    "        # Forward pass\n",
    "        yhat = siamese_model(X, training=True)\n",
    "        # Calculate loss\n",
    "        loss = binary_cross_loss(y, yhat)\n",
    "    print(loss)\n",
    "        \n",
    "    # Calculate gradients\n",
    "    grad = tape.gradient(loss, siamese_model.trainable_variables)\n",
    "    \n",
    "    # Calculate updated weights and apply to siamese model\n",
    "    opt.apply_gradients(zip(grad, siamese_model.trainable_variables))\n",
    "        \n",
    "    # Return loss\n",
    "    return loss"
   ]
  },
  {
   "cell_type": "markdown",
   "id": "c4371d88",
   "metadata": {},
   "source": [
    "### Building Training Loop"
   ]
  },
  {
   "cell_type": "code",
   "execution_count": 132,
   "id": "929b4599",
   "metadata": {},
   "outputs": [],
   "source": [
    "# Importing metric calculations\n",
    "\n",
    "from tensorflow.keras.metrics import Precision, Recall"
   ]
  },
  {
   "cell_type": "code",
   "execution_count": 133,
   "id": "4914f64e",
   "metadata": {},
   "outputs": [],
   "source": [
    "def train(data, EPOCHS):\n",
    "    # Loop through epochs\n",
    "    for epoch in range(1, EPOCHS+1):\n",
    "        print('\\n Epoch {}/{}'.format(epoch, EPOCHS))\n",
    "        progbar = tf.keras.utils.Progbar(len(data))\n",
    "        \n",
    "        # Creating a metric object \n",
    "        r = Recall()\n",
    "        p = Precision()\n",
    "        \n",
    "        # Loop through each batch\n",
    "        for idx, batch in enumerate(data):\n",
    "            # Run train step here\n",
    "            loss = train_step(batch)\n",
    "            yhat = siamese_model.predict(batch[:2])\n",
    "            r.update_state(batch[2], yhat)\n",
    "            p.update_state(batch[2], yhat) \n",
    "            progbar.update(idx+1)\n",
    "        print(loss.numpy(), r.result().numpy(), p.result().numpy())\n",
    "        \n",
    "        # Save checkpoints\n",
    "        if epoch % 10 == 0: \n",
    "            checkpoint.save(file_prefix=checkpoint_prefix)"
   ]
  },
  {
   "cell_type": "markdown",
   "id": "6c8f9807",
   "metadata": {},
   "source": [
    "## Training the Model"
   ]
  },
  {
   "cell_type": "code",
   "execution_count": 134,
   "id": "3f85f86f",
   "metadata": {},
   "outputs": [],
   "source": [
    "EPOCHS = 50"
   ]
  },
  {
   "cell_type": "code",
   "execution_count": 135,
   "id": "90b73a25",
   "metadata": {},
   "outputs": [
    {
     "name": "stdout",
     "output_type": "stream",
     "text": [
      "\n",
      " Epoch 1/50\n",
      "Tensor(\"binary_crossentropy/weighted_loss/value:0\", shape=(), dtype=float32)\n",
      "Tensor(\"binary_crossentropy/weighted_loss/value:0\", shape=(), dtype=float32)\n",
      "131/132 [============================>.] - ETA: 11sTensor(\"binary_crossentropy/weighted_loss/value:0\", shape=(), dtype=float32)\n",
      "132/132 [==============================] - 1560s 12s/step\n",
      "0.011360118 0.84869057 0.99885845\n",
      "\n",
      " Epoch 2/50\n",
      "132/132 [==============================] - 1539s 12s/step\n",
      "0.00077219825 0.9980952 0.9990467\n",
      "\n",
      " Epoch 3/50\n",
      "132/132 [==============================] - 1533s 12s/step\n",
      "0.004429535 0.99421406 1.0\n",
      "\n",
      " Epoch 4/50\n",
      "132/132 [==============================] - 1531s 12s/step\n",
      "0.015225539 0.9894636 0.99231505\n",
      "\n",
      " Epoch 5/50\n",
      "132/132 [==============================] - 1535s 12s/step\n",
      "0.0017453289 0.99904215 1.0\n",
      "\n",
      " Epoch 6/50\n",
      "132/132 [==============================] - 1527s 12s/step\n",
      "0.004611539 1.0 1.0\n",
      "\n",
      " Epoch 7/50\n",
      "132/132 [==============================] - 1522s 12s/step\n",
      "0.0011538347 0.9981114 1.0\n",
      "\n",
      " Epoch 8/50\n",
      "132/132 [==============================] - 1519s 12s/step\n",
      "0.014474045 0.99717516 1.0\n",
      "\n",
      " Epoch 9/50\n",
      "132/132 [==============================] - 1518s 11s/step\n",
      "0.001262488 0.9961941 1.0\n",
      "\n",
      " Epoch 10/50\n",
      "132/132 [==============================] - 1523s 12s/step\n",
      "4.768372e-08 1.0 1.0\n",
      "\n",
      " Epoch 11/50\n",
      "132/132 [==============================] - 1524s 12s/step\n",
      "0.00024392529 1.0 1.0\n",
      "\n",
      " Epoch 12/50\n",
      "132/132 [==============================] - 1524s 12s/step\n",
      "0.0018743969 1.0 1.0\n",
      "\n",
      " Epoch 13/50\n",
      "132/132 [==============================] - 1524s 12s/step\n",
      "6.3361704e-06 1.0 1.0\n",
      "\n",
      " Epoch 14/50\n",
      "132/132 [==============================] - 1524s 12s/step\n",
      "3.576279e-08 1.0 1.0\n",
      "\n",
      " Epoch 15/50\n",
      "132/132 [==============================] - 1522s 12s/step\n",
      "4.947197e-07 1.0 1.0\n",
      "\n",
      " Epoch 16/50\n",
      "132/132 [==============================] - 1525s 12s/step\n",
      "8.3446515e-08 1.0 1.0\n",
      "\n",
      " Epoch 17/50\n",
      "132/132 [==============================] - 1523s 12s/step\n",
      "0.00031980098 1.0 1.0\n",
      "\n",
      " Epoch 18/50\n",
      "132/132 [==============================] - 1518s 11s/step\n",
      "8.344654e-08 1.0 1.0\n",
      "\n",
      " Epoch 19/50\n",
      "132/132 [==============================] - 1516s 11s/step\n",
      "0.0 1.0 1.0\n",
      "\n",
      " Epoch 20/50\n",
      "132/132 [==============================] - 1516s 11s/step\n",
      "7.3909894e-07 1.0 1.0\n",
      "\n",
      " Epoch 21/50\n",
      "132/132 [==============================] - 1513s 11s/step\n",
      "2.5033984e-07 1.0 1.0\n",
      "\n",
      " Epoch 22/50\n",
      "132/132 [==============================] - 1518s 11s/step\n",
      "3.7550996e-07 1.0 1.0\n",
      "\n",
      " Epoch 23/50\n",
      "132/132 [==============================] - 1526s 12s/step\n",
      "6.259764e-05 1.0 1.0\n",
      "\n",
      " Epoch 24/50\n",
      "132/132 [==============================] - 1521s 12s/step\n",
      "0.0 1.0 1.0\n",
      "\n",
      " Epoch 25/50\n",
      "132/132 [==============================] - 1523s 12s/step\n",
      "0.0 1.0 1.0\n",
      "\n",
      " Epoch 26/50\n",
      "132/132 [==============================] - 1518s 11s/step\n",
      "2.7418162e-07 1.0 1.0\n",
      "\n",
      " Epoch 27/50\n",
      "132/132 [==============================] - 1518s 11s/step\n",
      "1.192093e-08 1.0 1.0\n",
      "\n",
      " Epoch 28/50\n",
      "132/132 [==============================] - 1520s 12s/step\n",
      "0.0 1.0 1.0\n",
      "\n",
      " Epoch 29/50\n",
      "132/132 [==============================] - 1520s 12s/step\n",
      "5.813689e-05 1.0 1.0\n",
      "\n",
      " Epoch 30/50\n",
      "132/132 [==============================] - 1526s 12s/step\n",
      "2.1457694e-07 1.0 1.0\n",
      "\n",
      " Epoch 31/50\n",
      "132/132 [==============================] - 1525s 12s/step\n",
      "0.0 1.0 1.0\n",
      "\n",
      " Epoch 32/50\n",
      "132/132 [==============================] - 1529s 12s/step\n",
      "5.9604646e-09 1.0 1.0\n",
      "\n",
      " Epoch 33/50\n",
      "132/132 [==============================] - 1525s 12s/step\n",
      "5.963434e-05 1.0 1.0\n",
      "\n",
      " Epoch 34/50\n",
      "132/132 [==============================] - 1528s 12s/step\n",
      "7.7486064e-08 1.0 1.0\n",
      "\n",
      " Epoch 35/50\n",
      "132/132 [==============================] - 1526s 12s/step\n",
      "6.805785e-05 1.0 1.0\n",
      "\n",
      " Epoch 36/50\n",
      "132/132 [==============================] - 1532s 12s/step\n",
      "5.9604646e-09 1.0 1.0\n",
      "\n",
      " Epoch 37/50\n",
      "132/132 [==============================] - 1535s 12s/step\n",
      "0.0020872918 0.9990458 1.0\n",
      "\n",
      " Epoch 38/50\n",
      "132/132 [==============================] - 1539s 12s/step\n",
      "0.012155144 0.9953227 0.98976743\n",
      "\n",
      " Epoch 39/50\n",
      "132/132 [==============================] - 1540s 12s/step\n",
      "7.0929616e-07 1.0 1.0\n",
      "\n",
      " Epoch 40/50\n",
      "132/132 [==============================] - 1546s 12s/step\n",
      "4.047193e-06 1.0 1.0\n",
      "\n",
      " Epoch 41/50\n",
      "132/132 [==============================] - 1540s 12s/step\n",
      "4.7267354e-06 1.0 1.0\n",
      "\n",
      " Epoch 42/50\n",
      "132/132 [==============================] - 1536s 12s/step\n",
      "1.5020427e-06 1.0 1.0\n",
      "\n",
      " Epoch 43/50\n",
      "132/132 [==============================] - 1532s 12s/step\n",
      "0.0 1.0 1.0\n",
      "\n",
      " Epoch 44/50\n",
      "132/132 [==============================] - 1528s 12s/step\n",
      "0.02215441 0.9885387 1.0\n",
      "\n",
      " Epoch 45/50\n",
      "132/132 [==============================] - 1529s 12s/step\n",
      "3.5762792e-08 0.9990366 1.0\n",
      "\n",
      " Epoch 46/50\n",
      "132/132 [==============================] - 1530s 12s/step\n",
      "0.03850611 0.9942911 1.0\n",
      "\n",
      " Epoch 47/50\n",
      "132/132 [==============================] - 1528s 12s/step\n",
      "3.750431e-05 0.99905837 1.0\n",
      "\n",
      " Epoch 48/50\n",
      "132/132 [==============================] - 1530s 12s/step\n",
      "0.00033081576 0.999044 1.0\n",
      "\n",
      " Epoch 49/50\n",
      "132/132 [==============================] - 1529s 12s/step\n",
      "0.00048400895 1.0 1.0\n",
      "\n",
      " Epoch 50/50\n",
      "132/132 [==============================] - 1536s 12s/step\n",
      "1.7894916e-05 1.0 1.0\n"
     ]
    }
   ],
   "source": [
    "train(train_data, EPOCHS)"
   ]
  },
  {
   "cell_type": "markdown",
   "id": "a2081b99",
   "metadata": {},
   "source": [
    "## Model Evaluation"
   ]
  },
  {
   "cell_type": "code",
   "execution_count": 136,
   "id": "335d6daf",
   "metadata": {},
   "outputs": [],
   "source": [
    "# Get a batch of test data\n",
    "\n",
    "test_input, test_val, y_true = test_data.as_numpy_iterator().next()"
   ]
  },
  {
   "cell_type": "code",
   "execution_count": 137,
   "id": "7152003c",
   "metadata": {},
   "outputs": [],
   "source": [
    "y_hat = siamese_model.predict([test_input, test_val])"
   ]
  },
  {
   "cell_type": "code",
   "execution_count": 138,
   "id": "30a2cf2e",
   "metadata": {},
   "outputs": [
    {
     "data": {
      "text/plain": [
       "[0, 0, 0, 0, 0, 1, 1, 1, 1, 1, 1, 1, 0, 0, 0, 0]"
      ]
     },
     "execution_count": 138,
     "metadata": {},
     "output_type": "execute_result"
    }
   ],
   "source": [
    "# Post processing the results\n",
    "\n",
    "[1 if prediction > 0.5 else 0 for prediction in y_hat ]"
   ]
  },
  {
   "cell_type": "code",
   "execution_count": 139,
   "id": "5e913a73",
   "metadata": {},
   "outputs": [
    {
     "data": {
      "text/plain": [
       "array([0., 0., 0., 0., 0., 1., 1., 1., 1., 1., 1., 1., 0., 0., 0., 0.],\n",
       "      dtype=float32)"
      ]
     },
     "execution_count": 139,
     "metadata": {},
     "output_type": "execute_result"
    }
   ],
   "source": [
    "y_true"
   ]
  },
  {
   "cell_type": "markdown",
   "id": "6c597933",
   "metadata": {},
   "source": [
    "## Calculate Metrics"
   ]
  },
  {
   "cell_type": "code",
   "execution_count": 140,
   "id": "483610d2",
   "metadata": {},
   "outputs": [
    {
     "data": {
      "text/plain": [
       "1.0"
      ]
     },
     "execution_count": 140,
     "metadata": {},
     "output_type": "execute_result"
    }
   ],
   "source": [
    "# Creating a metric object \n",
    "m = Recall()\n",
    "\n",
    "# Calculating the recall value \n",
    "m.update_state(y_true, y_hat)\n",
    "\n",
    "# Return Recall Result\n",
    "m.result().numpy()"
   ]
  },
  {
   "cell_type": "code",
   "execution_count": 141,
   "id": "ec0a5d64",
   "metadata": {},
   "outputs": [
    {
     "data": {
      "text/plain": [
       "1.0"
      ]
     },
     "execution_count": 141,
     "metadata": {},
     "output_type": "execute_result"
    }
   ],
   "source": [
    "# Creating a metric object \n",
    "m = Precision()\n",
    "\n",
    "# Calculating the recall value \n",
    "m.update_state(y_true, y_hat)\n",
    "\n",
    "# Return Recall Result\n",
    "m.result().numpy()"
   ]
  },
  {
   "cell_type": "code",
   "execution_count": 142,
   "id": "87c29d4f",
   "metadata": {},
   "outputs": [
    {
     "name": "stdout",
     "output_type": "stream",
     "text": [
      "0.9978166 1.0\n"
     ]
    }
   ],
   "source": [
    "r = Recall()\n",
    "p = Precision()\n",
    "\n",
    "for test_input, test_val, y_true in test_data.as_numpy_iterator():\n",
    "    yhat = siamese_model.predict([test_input, test_val])\n",
    "    r.update_state(y_true, yhat)\n",
    "    p.update_state(y_true,yhat) \n",
    "\n",
    "print(r.result().numpy(), p.result().numpy())"
   ]
  },
  {
   "cell_type": "markdown",
   "id": "836ecb25",
   "metadata": {},
   "source": [
    "## Results"
   ]
  },
  {
   "cell_type": "code",
   "execution_count": 146,
   "id": "46b152d4",
   "metadata": {},
   "outputs": [],
   "source": [
    "# # Set plot size \n",
    "# plt.figure(figsize=(10,8))\n",
    "\n",
    "# # Set first subplot\n",
    "# plt.subplot(1,2,1)\n",
    "# plt.imshow(test_input[0])\n",
    "\n",
    "# # Set second subplot\n",
    "# plt.subplot(1,2,2)\n",
    "# plt.imshow(test_val[0])\n",
    "\n",
    "# # Renders cleanly\n",
    "# plt.show()"
   ]
  },
  {
   "cell_type": "markdown",
   "id": "1f53e52c",
   "metadata": {},
   "source": [
    "## Saving the Model"
   ]
  },
  {
   "cell_type": "code",
   "execution_count": 147,
   "id": "94239c25",
   "metadata": {},
   "outputs": [
    {
     "name": "stdout",
     "output_type": "stream",
     "text": [
      "WARNING:tensorflow:Compiled the loaded model, but the compiled metrics have yet to be built. `model.compile_metrics` will be empty until you train or evaluate the model.\n"
     ]
    }
   ],
   "source": [
    "# Save weights\n",
    "\n",
    "siamese_model.save('siamesemodelv1.h5')"
   ]
  },
  {
   "cell_type": "code",
   "execution_count": 24,
   "id": "6e3def61",
   "metadata": {},
   "outputs": [
    {
     "data": {
      "text/plain": [
       "__main__.L1Dist"
      ]
     },
     "execution_count": 24,
     "metadata": {},
     "output_type": "execute_result"
    }
   ],
   "source": [
    "L1Dist"
   ]
  },
  {
   "cell_type": "code",
   "execution_count": 25,
   "id": "c12c24bc",
   "metadata": {},
   "outputs": [
    {
     "name": "stdout",
     "output_type": "stream",
     "text": [
      "WARNING:tensorflow:No training configuration found in the save file, so the model was *not* compiled. Compile it manually.\n"
     ]
    }
   ],
   "source": [
    "# Reload model \n",
    "siamese_model = tf.keras.models.load_model('siamesemodelv1.h5', \n",
    "                                   custom_objects={'L1Dist':L1Dist, 'BinaryCrossentropy':tf.losses.BinaryCrossentropy})"
   ]
  },
  {
   "cell_type": "code",
   "execution_count": 26,
   "id": "71dfd4c6",
   "metadata": {},
   "outputs": [
    {
     "ename": "NameError",
     "evalue": "name 'test_input' is not defined",
     "output_type": "error",
     "traceback": [
      "\u001b[0;31m---------------------------------------------------------------------------\u001b[0m",
      "\u001b[0;31mNameError\u001b[0m                                 Traceback (most recent call last)",
      "Input \u001b[0;32mIn [26]\u001b[0m, in \u001b[0;36m<cell line: 3>\u001b[0;34m()\u001b[0m\n\u001b[1;32m      1\u001b[0m \u001b[38;5;66;03m# Make predictions with reloaded model\u001b[39;00m\n\u001b[0;32m----> 3\u001b[0m siamese_model\u001b[38;5;241m.\u001b[39mpredict([\u001b[43mtest_input\u001b[49m, test_val])\n",
      "\u001b[0;31mNameError\u001b[0m: name 'test_input' is not defined"
     ]
    }
   ],
   "source": [
    "# Make predictions with reloaded model\n",
    "\n",
    "siamese_model.predict([test_input, test_val])"
   ]
  },
  {
   "cell_type": "code",
   "execution_count": 152,
   "id": "466e65fd",
   "metadata": {},
   "outputs": [
    {
     "name": "stdout",
     "output_type": "stream",
     "text": [
      "Model: \"SiameseNetwork\"\n",
      "__________________________________________________________________________________________________\n",
      " Layer (type)                   Output Shape         Param #     Connected to                     \n",
      "==================================================================================================\n",
      " input_img (InputLayer)         [(None, 100, 100, 3  0           []                               \n",
      "                                )]                                                                \n",
      "                                                                                                  \n",
      " validation_img (InputLayer)    [(None, 100, 100, 3  0           []                               \n",
      "                                )]                                                                \n",
      "                                                                                                  \n",
      " embedding (Functional)         (None, 4096)         38960448    ['input_img[0][0]',              \n",
      "                                                                  'validation_img[0][0]']         \n",
      "                                                                                                  \n",
      " l1_dist_4 (L1Dist)             (None, 4096)         0           ['embedding[0][0]',              \n",
      "                                                                  'embedding[1][0]']              \n",
      "                                                                                                  \n",
      " dense_4 (Dense)                (None, 1)            4097        ['l1_dist_4[0][0]']              \n",
      "                                                                                                  \n",
      "==================================================================================================\n",
      "Total params: 38,964,545\n",
      "Trainable params: 38,964,545\n",
      "Non-trainable params: 0\n",
      "__________________________________________________________________________________________________\n"
     ]
    }
   ],
   "source": [
    "# View model summary\n",
    "\n",
    "siamese_model.summary()"
   ]
  },
  {
   "cell_type": "markdown",
   "id": "8539de4c",
   "metadata": {},
   "source": [
    "## Real Time Testing"
   ]
  },
  {
   "cell_type": "code",
   "execution_count": 9,
   "id": "e56a5879",
   "metadata": {},
   "outputs": [],
   "source": [
    "# application_data/verification_images"
   ]
  },
  {
   "cell_type": "code",
   "execution_count": 27,
   "id": "be781910",
   "metadata": {
    "collapsed": true
   },
   "outputs": [
    {
     "data": {
      "text/plain": [
       "['1b94fabe-52d7-11ed-aeb1-91af58059082.jpg',\n",
       " '58a0930c-52d5-11ed-aeb1-91af58059082.jpg',\n",
       " '075eb9c8-52d6-11ed-aeb1-91af58059082.jpg',\n",
       " '2f804474-52d8-11ed-aeb1-91af58059082.jpg',\n",
       " '1a898d62-52d5-11ed-aeb1-91af58059082.jpg',\n",
       " '98b588a2-52d6-11ed-aeb1-91af58059082.jpg',\n",
       " '1de980b6-52d5-11ed-aeb1-91af58059082.jpg',\n",
       " '308c61cc-52d8-11ed-aeb1-91af58059082.jpg',\n",
       " '52c6051a-52d6-11ed-aeb1-91af58059082.jpg',\n",
       " '0d1cc1e8-52d6-11ed-aeb1-91af58059082.jpg',\n",
       " '99a4a7ca-52d6-11ed-aeb1-91af58059082.jpg',\n",
       " '63f0177c-52d6-11ed-aeb1-91af58059082.jpg',\n",
       " '53bed410-52d6-11ed-aeb1-91af58059082.jpg',\n",
       " '308cbfaa-52d8-11ed-aeb1-91af58059082.jpg',\n",
       " '61d4d4d2-52d6-11ed-aeb1-91af58059082.jpg',\n",
       " '51ada886-52d6-11ed-aeb1-91af58059082.jpg',\n",
       " '1ad3f332-52d7-11ed-aeb1-91af58059082.jpg',\n",
       " '0f474740-52d6-11ed-aeb1-91af58059082.jpg',\n",
       " '58caa542-52d6-11ed-aeb1-91af58059082.jpg',\n",
       " '2fa3cf84-52d8-11ed-aeb1-91af58059082.jpg',\n",
       " '64bbc304-52d6-11ed-aeb1-91af58059082.jpg',\n",
       " '2f77856e-52d8-11ed-aeb1-91af58059082.jpg',\n",
       " '1b473b5e-52d6-11ed-aeb1-91af58059082.jpg',\n",
       " '304e32ae-52d7-11ed-aeb1-91af58059082.jpg',\n",
       " '303bf674-52d8-11ed-aeb1-91af58059082.jpg',\n",
       " '308cf074-52d8-11ed-aeb1-91af58059082.jpg',\n",
       " '2f912500-52d8-11ed-aeb1-91af58059082.jpg',\n",
       " '57e45264-52d5-11ed-aeb1-91af58059082.jpg',\n",
       " '2f99905a-52d8-11ed-aeb1-91af58059082.jpg',\n",
       " '072c240e-52d6-11ed-aeb1-91af58059082.jpg',\n",
       " '54e0c146-52d6-11ed-aeb1-91af58059082.jpg',\n",
       " '310b8114-52d8-11ed-aeb1-91af58059082.jpg',\n",
       " '63bd446e-52d6-11ed-aeb1-91af58059082.jpg',\n",
       " '2f785980-52d8-11ed-aeb1-91af58059082.jpg',\n",
       " '53f17e60-52d6-11ed-aeb1-91af58059082.jpg',\n",
       " '1d7336b6-52d7-11ed-aeb1-91af58059082.jpg',\n",
       " '62c417e0-52d6-11ed-aeb1-91af58059082.jpg',\n",
       " '2fa34be0-52d8-11ed-aeb1-91af58059082.jpg',\n",
       " '2f890924-52d8-11ed-aeb1-91af58059082.jpg',\n",
       " '103de826-52d5-11ed-aeb1-91af58059082.jpg',\n",
       " '56ec6f94-52d6-11ed-aeb1-91af58059082.jpg',\n",
       " '59f1d97c-52d6-11ed-aeb1-91af58059082.jpg',\n",
       " '2fa2f8e8-52d8-11ed-aeb1-91af58059082.jpg',\n",
       " '2f77567a-52d8-11ed-aeb1-91af58059082.jpg',\n",
       " '314a2f04-52d8-11ed-aeb1-91af58059082.jpg',\n",
       " '99d74504-52d6-11ed-aeb1-91af58059082.jpg',\n",
       " '2f781222-52d8-11ed-aeb1-91af58059082.jpg',\n",
       " '2f91462a-52d8-11ed-aeb1-91af58059082.jpg',\n",
       " '60d1658c-52d6-11ed-aeb1-91af58059082.jpg',\n",
       " '1b4f53a8-52d5-11ed-aeb1-91af58059082.jpg',\n",
       " '1e5d415c-52d7-11ed-aeb1-91af58059082.jpg',\n",
       " '1b148574-52d6-11ed-aeb1-91af58059082.jpg',\n",
       " '2fa3ff86-52d8-11ed-aeb1-91af58059082.jpg',\n",
       " '2f548622-52d8-11ed-aeb1-91af58059082.jpg',\n",
       " '60ccacf4-52d6-11ed-aeb1-91af58059082.jpg',\n",
       " '2f916830-52d8-11ed-aeb1-91af58059082.jpg',\n",
       " '1e2f806e-52d7-11ed-aeb1-91af58059082.jpg',\n",
       " '309ef238-52d8-11ed-aeb1-91af58059082.jpg']"
      ]
     },
     "execution_count": 27,
     "metadata": {},
     "output_type": "execute_result"
    }
   ],
   "source": [
    "os.listdir(os.path.join('application_data', 'verification_images'))"
   ]
  },
  {
   "cell_type": "code",
   "execution_count": 28,
   "id": "17285cd3",
   "metadata": {},
   "outputs": [
    {
     "data": {
      "text/plain": [
       "'application_data/input_image/input_image.jpg'"
      ]
     },
     "execution_count": 28,
     "metadata": {},
     "output_type": "execute_result"
    }
   ],
   "source": [
    "os.path.join('application_data', 'input_image', 'input_image.jpg')"
   ]
  },
  {
   "cell_type": "code",
   "execution_count": 29,
   "id": "5e369013",
   "metadata": {
    "scrolled": true
   },
   "outputs": [
    {
     "name": "stdout",
     "output_type": "stream",
     "text": [
      "application_data/verification_images/1b94fabe-52d7-11ed-aeb1-91af58059082.jpg\n",
      "application_data/verification_images/58a0930c-52d5-11ed-aeb1-91af58059082.jpg\n",
      "application_data/verification_images/075eb9c8-52d6-11ed-aeb1-91af58059082.jpg\n",
      "application_data/verification_images/2f804474-52d8-11ed-aeb1-91af58059082.jpg\n",
      "application_data/verification_images/1a898d62-52d5-11ed-aeb1-91af58059082.jpg\n",
      "application_data/verification_images/98b588a2-52d6-11ed-aeb1-91af58059082.jpg\n",
      "application_data/verification_images/1de980b6-52d5-11ed-aeb1-91af58059082.jpg\n",
      "application_data/verification_images/308c61cc-52d8-11ed-aeb1-91af58059082.jpg\n",
      "application_data/verification_images/52c6051a-52d6-11ed-aeb1-91af58059082.jpg\n",
      "application_data/verification_images/0d1cc1e8-52d6-11ed-aeb1-91af58059082.jpg\n",
      "application_data/verification_images/99a4a7ca-52d6-11ed-aeb1-91af58059082.jpg\n",
      "application_data/verification_images/63f0177c-52d6-11ed-aeb1-91af58059082.jpg\n",
      "application_data/verification_images/53bed410-52d6-11ed-aeb1-91af58059082.jpg\n",
      "application_data/verification_images/308cbfaa-52d8-11ed-aeb1-91af58059082.jpg\n",
      "application_data/verification_images/61d4d4d2-52d6-11ed-aeb1-91af58059082.jpg\n",
      "application_data/verification_images/51ada886-52d6-11ed-aeb1-91af58059082.jpg\n",
      "application_data/verification_images/1ad3f332-52d7-11ed-aeb1-91af58059082.jpg\n",
      "application_data/verification_images/0f474740-52d6-11ed-aeb1-91af58059082.jpg\n",
      "application_data/verification_images/58caa542-52d6-11ed-aeb1-91af58059082.jpg\n",
      "application_data/verification_images/2fa3cf84-52d8-11ed-aeb1-91af58059082.jpg\n",
      "application_data/verification_images/64bbc304-52d6-11ed-aeb1-91af58059082.jpg\n",
      "application_data/verification_images/2f77856e-52d8-11ed-aeb1-91af58059082.jpg\n",
      "application_data/verification_images/1b473b5e-52d6-11ed-aeb1-91af58059082.jpg\n",
      "application_data/verification_images/304e32ae-52d7-11ed-aeb1-91af58059082.jpg\n",
      "application_data/verification_images/303bf674-52d8-11ed-aeb1-91af58059082.jpg\n",
      "application_data/verification_images/308cf074-52d8-11ed-aeb1-91af58059082.jpg\n",
      "application_data/verification_images/2f912500-52d8-11ed-aeb1-91af58059082.jpg\n",
      "application_data/verification_images/57e45264-52d5-11ed-aeb1-91af58059082.jpg\n",
      "application_data/verification_images/2f99905a-52d8-11ed-aeb1-91af58059082.jpg\n",
      "application_data/verification_images/072c240e-52d6-11ed-aeb1-91af58059082.jpg\n",
      "application_data/verification_images/54e0c146-52d6-11ed-aeb1-91af58059082.jpg\n",
      "application_data/verification_images/310b8114-52d8-11ed-aeb1-91af58059082.jpg\n",
      "application_data/verification_images/63bd446e-52d6-11ed-aeb1-91af58059082.jpg\n",
      "application_data/verification_images/2f785980-52d8-11ed-aeb1-91af58059082.jpg\n",
      "application_data/verification_images/53f17e60-52d6-11ed-aeb1-91af58059082.jpg\n",
      "application_data/verification_images/1d7336b6-52d7-11ed-aeb1-91af58059082.jpg\n",
      "application_data/verification_images/62c417e0-52d6-11ed-aeb1-91af58059082.jpg\n",
      "application_data/verification_images/2fa34be0-52d8-11ed-aeb1-91af58059082.jpg\n",
      "application_data/verification_images/2f890924-52d8-11ed-aeb1-91af58059082.jpg\n",
      "application_data/verification_images/103de826-52d5-11ed-aeb1-91af58059082.jpg\n",
      "application_data/verification_images/56ec6f94-52d6-11ed-aeb1-91af58059082.jpg\n",
      "application_data/verification_images/59f1d97c-52d6-11ed-aeb1-91af58059082.jpg\n",
      "application_data/verification_images/2fa2f8e8-52d8-11ed-aeb1-91af58059082.jpg\n",
      "application_data/verification_images/2f77567a-52d8-11ed-aeb1-91af58059082.jpg\n",
      "application_data/verification_images/314a2f04-52d8-11ed-aeb1-91af58059082.jpg\n",
      "application_data/verification_images/99d74504-52d6-11ed-aeb1-91af58059082.jpg\n",
      "application_data/verification_images/2f781222-52d8-11ed-aeb1-91af58059082.jpg\n",
      "application_data/verification_images/2f91462a-52d8-11ed-aeb1-91af58059082.jpg\n",
      "application_data/verification_images/60d1658c-52d6-11ed-aeb1-91af58059082.jpg\n",
      "application_data/verification_images/1b4f53a8-52d5-11ed-aeb1-91af58059082.jpg\n",
      "application_data/verification_images/1e5d415c-52d7-11ed-aeb1-91af58059082.jpg\n",
      "application_data/verification_images/1b148574-52d6-11ed-aeb1-91af58059082.jpg\n",
      "application_data/verification_images/2fa3ff86-52d8-11ed-aeb1-91af58059082.jpg\n",
      "application_data/verification_images/2f548622-52d8-11ed-aeb1-91af58059082.jpg\n",
      "application_data/verification_images/60ccacf4-52d6-11ed-aeb1-91af58059082.jpg\n",
      "application_data/verification_images/2f916830-52d8-11ed-aeb1-91af58059082.jpg\n",
      "application_data/verification_images/1e2f806e-52d7-11ed-aeb1-91af58059082.jpg\n",
      "application_data/verification_images/309ef238-52d8-11ed-aeb1-91af58059082.jpg\n"
     ]
    }
   ],
   "source": [
    "for image in os.listdir(os.path.join('application_data', 'verification_images')):\n",
    "    validation_img = os.path.join('application_data', 'verification_images', image)\n",
    "    print(validation_img)"
   ]
  },
  {
   "cell_type": "code",
   "execution_count": 30,
   "id": "d940c5b4",
   "metadata": {},
   "outputs": [],
   "source": [
    "def verify(model, detection_threshold, verification_threshold):\n",
    "    # Build results array\n",
    "    results = []\n",
    "    for image in os.listdir(os.path.join('application_data', 'verification_images')):\n",
    "        input_img = preprocess(os.path.join('application_data', 'input_image', 'input_image.jpg'))\n",
    "        validation_img = preprocess(os.path.join('application_data', 'verification_images', image))\n",
    "        \n",
    "        # Make Predictions \n",
    "        result = model.predict(list(np.expand_dims([input_img, validation_img], axis=1)))\n",
    "        results.append(result)\n",
    "    \n",
    "    # Detection Threshold: Metric above which a prediciton is considered positive \n",
    "    detection = np.sum(np.array(results) > detection_threshold)\n",
    "    \n",
    "    # Verification Threshold: Proportion of positive predictions / total positive samples \n",
    "    verification = detection / len(os.listdir(os.path.join('application_data', 'verification_images'))) \n",
    "    verified = verification > verification_threshold\n",
    "    \n",
    "    return results, verified"
   ]
  },
  {
   "cell_type": "markdown",
   "id": "3404606a",
   "metadata": {},
   "source": [
    "## OpenCV Real time Verification"
   ]
  },
  {
   "cell_type": "code",
   "execution_count": 31,
   "id": "003da90a",
   "metadata": {},
   "outputs": [
    {
     "name": "stderr",
     "output_type": "stream",
     "text": [
      "QObject::moveToThread: Current thread (0x55eda46af190) is not the object's thread (0x55eda409ff80).\n",
      "Cannot move to target thread (0x55eda46af190)\n",
      "\n",
      "QObject::moveToThread: Current thread (0x55eda46af190) is not the object's thread (0x55eda409ff80).\n",
      "Cannot move to target thread (0x55eda46af190)\n",
      "\n",
      "QObject::moveToThread: Current thread (0x55eda46af190) is not the object's thread (0x55eda409ff80).\n",
      "Cannot move to target thread (0x55eda46af190)\n",
      "\n",
      "QObject::moveToThread: Current thread (0x55eda46af190) is not the object's thread (0x55eda409ff80).\n",
      "Cannot move to target thread (0x55eda46af190)\n",
      "\n",
      "QObject::moveToThread: Current thread (0x55eda46af190) is not the object's thread (0x55eda409ff80).\n",
      "Cannot move to target thread (0x55eda46af190)\n",
      "\n",
      "QObject::moveToThread: Current thread (0x55eda46af190) is not the object's thread (0x55eda409ff80).\n",
      "Cannot move to target thread (0x55eda46af190)\n",
      "\n",
      "QObject::moveToThread: Current thread (0x55eda46af190) is not the object's thread (0x55eda409ff80).\n",
      "Cannot move to target thread (0x55eda46af190)\n",
      "\n",
      "QObject::moveToThread: Current thread (0x55eda46af190) is not the object's thread (0x55eda409ff80).\n",
      "Cannot move to target thread (0x55eda46af190)\n",
      "\n",
      "QObject::moveToThread: Current thread (0x55eda46af190) is not the object's thread (0x55eda409ff80).\n",
      "Cannot move to target thread (0x55eda46af190)\n",
      "\n",
      "QObject::moveToThread: Current thread (0x55eda46af190) is not the object's thread (0x55eda409ff80).\n",
      "Cannot move to target thread (0x55eda46af190)\n",
      "\n",
      "QObject::moveToThread: Current thread (0x55eda46af190) is not the object's thread (0x55eda409ff80).\n",
      "Cannot move to target thread (0x55eda46af190)\n",
      "\n",
      "QObject::moveToThread: Current thread (0x55eda46af190) is not the object's thread (0x55eda409ff80).\n",
      "Cannot move to target thread (0x55eda46af190)\n",
      "\n",
      "QObject::moveToThread: Current thread (0x55eda46af190) is not the object's thread (0x55eda409ff80).\n",
      "Cannot move to target thread (0x55eda46af190)\n",
      "\n",
      "QObject::moveToThread: Current thread (0x55eda46af190) is not the object's thread (0x55eda409ff80).\n",
      "Cannot move to target thread (0x55eda46af190)\n",
      "\n",
      "QObject::moveToThread: Current thread (0x55eda46af190) is not the object's thread (0x55eda409ff80).\n",
      "Cannot move to target thread (0x55eda46af190)\n",
      "\n",
      "QObject::moveToThread: Current thread (0x55eda46af190) is not the object's thread (0x55eda409ff80).\n",
      "Cannot move to target thread (0x55eda46af190)\n",
      "\n",
      "QObject::moveToThread: Current thread (0x55eda46af190) is not the object's thread (0x55eda409ff80).\n",
      "Cannot move to target thread (0x55eda46af190)\n",
      "\n",
      "QObject::moveToThread: Current thread (0x55eda46af190) is not the object's thread (0x55eda409ff80).\n",
      "Cannot move to target thread (0x55eda46af190)\n",
      "\n",
      "QObject::moveToThread: Current thread (0x55eda46af190) is not the object's thread (0x55eda409ff80).\n",
      "Cannot move to target thread (0x55eda46af190)\n",
      "\n",
      "QObject::moveToThread: Current thread (0x55eda46af190) is not the object's thread (0x55eda409ff80).\n",
      "Cannot move to target thread (0x55eda46af190)\n",
      "\n",
      "QObject::moveToThread: Current thread (0x55eda46af190) is not the object's thread (0x55eda409ff80).\n",
      "Cannot move to target thread (0x55eda46af190)\n",
      "\n",
      "QObject::moveToThread: Current thread (0x55eda46af190) is not the object's thread (0x55eda409ff80).\n",
      "Cannot move to target thread (0x55eda46af190)\n",
      "\n",
      "QObject::moveToThread: Current thread (0x55eda46af190) is not the object's thread (0x55eda409ff80).\n",
      "Cannot move to target thread (0x55eda46af190)\n",
      "\n",
      "QObject::moveToThread: Current thread (0x55eda46af190) is not the object's thread (0x55eda409ff80).\n",
      "Cannot move to target thread (0x55eda46af190)\n",
      "\n",
      "QObject::moveToThread: Current thread (0x55eda46af190) is not the object's thread (0x55eda409ff80).\n",
      "Cannot move to target thread (0x55eda46af190)\n",
      "\n",
      "QObject::moveToThread: Current thread (0x55eda46af190) is not the object's thread (0x55eda409ff80).\n",
      "Cannot move to target thread (0x55eda46af190)\n",
      "\n",
      "QObject::moveToThread: Current thread (0x55eda46af190) is not the object's thread (0x55eda409ff80).\n",
      "Cannot move to target thread (0x55eda46af190)\n",
      "\n",
      "QObject::moveToThread: Current thread (0x55eda46af190) is not the object's thread (0x55eda409ff80).\n",
      "Cannot move to target thread (0x55eda46af190)\n",
      "\n",
      "QObject::moveToThread: Current thread (0x55eda46af190) is not the object's thread (0x55eda409ff80).\n",
      "Cannot move to target thread (0x55eda46af190)\n",
      "\n",
      "QObject::moveToThread: Current thread (0x55eda46af190) is not the object's thread (0x55eda409ff80).\n",
      "Cannot move to target thread (0x55eda46af190)\n",
      "\n",
      "QObject::moveToThread: Current thread (0x55eda46af190) is not the object's thread (0x55eda409ff80).\n",
      "Cannot move to target thread (0x55eda46af190)\n",
      "\n",
      "QObject::moveToThread: Current thread (0x55eda46af190) is not the object's thread (0x55eda409ff80).\n",
      "Cannot move to target thread (0x55eda46af190)\n",
      "\n",
      "QObject::moveToThread: Current thread (0x55eda46af190) is not the object's thread (0x55eda409ff80).\n",
      "Cannot move to target thread (0x55eda46af190)\n",
      "\n",
      "QObject::moveToThread: Current thread (0x55eda46af190) is not the object's thread (0x55eda409ff80).\n",
      "Cannot move to target thread (0x55eda46af190)\n",
      "\n",
      "QObject::moveToThread: Current thread (0x55eda46af190) is not the object's thread (0x55eda409ff80).\n",
      "Cannot move to target thread (0x55eda46af190)\n",
      "\n",
      "QObject::moveToThread: Current thread (0x55eda46af190) is not the object's thread (0x55eda409ff80).\n",
      "Cannot move to target thread (0x55eda46af190)\n",
      "\n",
      "QObject::moveToThread: Current thread (0x55eda46af190) is not the object's thread (0x55eda409ff80).\n",
      "Cannot move to target thread (0x55eda46af190)\n",
      "\n",
      "QObject::moveToThread: Current thread (0x55eda46af190) is not the object's thread (0x55eda409ff80).\n",
      "Cannot move to target thread (0x55eda46af190)\n",
      "\n",
      "QObject::moveToThread: Current thread (0x55eda46af190) is not the object's thread (0x55eda409ff80).\n",
      "Cannot move to target thread (0x55eda46af190)\n",
      "\n",
      "QObject::moveToThread: Current thread (0x55eda46af190) is not the object's thread (0x55eda409ff80).\n",
      "Cannot move to target thread (0x55eda46af190)\n",
      "\n",
      "QObject::moveToThread: Current thread (0x55eda46af190) is not the object's thread (0x55eda409ff80).\n",
      "Cannot move to target thread (0x55eda46af190)\n",
      "\n",
      "QObject::moveToThread: Current thread (0x55eda46af190) is not the object's thread (0x55eda409ff80).\n",
      "Cannot move to target thread (0x55eda46af190)\n",
      "\n",
      "QObject::moveToThread: Current thread (0x55eda46af190) is not the object's thread (0x55eda409ff80).\n",
      "Cannot move to target thread (0x55eda46af190)\n",
      "\n",
      "QObject::moveToThread: Current thread (0x55eda46af190) is not the object's thread (0x55eda409ff80).\n",
      "Cannot move to target thread (0x55eda46af190)\n",
      "\n",
      "QObject::moveToThread: Current thread (0x55eda46af190) is not the object's thread (0x55eda409ff80).\n",
      "Cannot move to target thread (0x55eda46af190)\n",
      "\n",
      "QObject::moveToThread: Current thread (0x55eda46af190) is not the object's thread (0x55eda409ff80).\n",
      "Cannot move to target thread (0x55eda46af190)\n",
      "\n",
      "QObject::moveToThread: Current thread (0x55eda46af190) is not the object's thread (0x55eda409ff80).\n",
      "Cannot move to target thread (0x55eda46af190)\n",
      "\n",
      "QObject::moveToThread: Current thread (0x55eda46af190) is not the object's thread (0x55eda409ff80).\n",
      "Cannot move to target thread (0x55eda46af190)\n",
      "\n",
      "QObject::moveToThread: Current thread (0x55eda46af190) is not the object's thread (0x55eda409ff80).\n",
      "Cannot move to target thread (0x55eda46af190)\n",
      "\n",
      "QObject::moveToThread: Current thread (0x55eda46af190) is not the object's thread (0x55eda409ff80).\n",
      "Cannot move to target thread (0x55eda46af190)\n",
      "\n",
      "QObject::moveToThread: Current thread (0x55eda46af190) is not the object's thread (0x55eda409ff80).\n",
      "Cannot move to target thread (0x55eda46af190)\n",
      "\n",
      "QObject::moveToThread: Current thread (0x55eda46af190) is not the object's thread (0x55eda409ff80).\n",
      "Cannot move to target thread (0x55eda46af190)\n",
      "\n",
      "QObject::moveToThread: Current thread (0x55eda46af190) is not the object's thread (0x55eda409ff80).\n",
      "Cannot move to target thread (0x55eda46af190)\n",
      "\n",
      "QObject::moveToThread: Current thread (0x55eda46af190) is not the object's thread (0x55eda409ff80).\n",
      "Cannot move to target thread (0x55eda46af190)\n",
      "\n",
      "QObject::moveToThread: Current thread (0x55eda46af190) is not the object's thread (0x55eda409ff80).\n",
      "Cannot move to target thread (0x55eda46af190)\n",
      "\n",
      "QObject::moveToThread: Current thread (0x55eda46af190) is not the object's thread (0x55eda409ff80).\n",
      "Cannot move to target thread (0x55eda46af190)\n",
      "\n",
      "QObject::moveToThread: Current thread (0x55eda46af190) is not the object's thread (0x55eda409ff80).\n",
      "Cannot move to target thread (0x55eda46af190)\n",
      "\n",
      "QObject::moveToThread: Current thread (0x55eda46af190) is not the object's thread (0x55eda409ff80).\n",
      "Cannot move to target thread (0x55eda46af190)\n",
      "\n",
      "QObject::moveToThread: Current thread (0x55eda46af190) is not the object's thread (0x55eda409ff80).\n",
      "Cannot move to target thread (0x55eda46af190)\n",
      "\n",
      "QObject::moveToThread: Current thread (0x55eda46af190) is not the object's thread (0x55eda409ff80).\n",
      "Cannot move to target thread (0x55eda46af190)\n",
      "\n",
      "QObject::moveToThread: Current thread (0x55eda46af190) is not the object's thread (0x55eda409ff80).\n",
      "Cannot move to target thread (0x55eda46af190)\n",
      "\n",
      "QObject::moveToThread: Current thread (0x55eda46af190) is not the object's thread (0x55eda409ff80).\n",
      "Cannot move to target thread (0x55eda46af190)\n",
      "\n",
      "QObject::moveToThread: Current thread (0x55eda46af190) is not the object's thread (0x55eda409ff80).\n",
      "Cannot move to target thread (0x55eda46af190)\n",
      "\n",
      "QObject::moveToThread: Current thread (0x55eda46af190) is not the object's thread (0x55eda409ff80).\n",
      "Cannot move to target thread (0x55eda46af190)\n",
      "\n",
      "QObject::moveToThread: Current thread (0x55eda46af190) is not the object's thread (0x55eda409ff80).\n",
      "Cannot move to target thread (0x55eda46af190)\n",
      "\n",
      "QObject::moveToThread: Current thread (0x55eda46af190) is not the object's thread (0x55eda409ff80).\n",
      "Cannot move to target thread (0x55eda46af190)\n",
      "\n",
      "QObject::moveToThread: Current thread (0x55eda46af190) is not the object's thread (0x55eda409ff80).\n",
      "Cannot move to target thread (0x55eda46af190)\n",
      "\n",
      "QObject::moveToThread: Current thread (0x55eda46af190) is not the object's thread (0x55eda409ff80).\n",
      "Cannot move to target thread (0x55eda46af190)\n",
      "\n",
      "QObject::moveToThread: Current thread (0x55eda46af190) is not the object's thread (0x55eda409ff80).\n",
      "Cannot move to target thread (0x55eda46af190)\n",
      "\n",
      "QObject::moveToThread: Current thread (0x55eda46af190) is not the object's thread (0x55eda409ff80).\n",
      "Cannot move to target thread (0x55eda46af190)\n",
      "\n",
      "QObject::moveToThread: Current thread (0x55eda46af190) is not the object's thread (0x55eda409ff80).\n",
      "Cannot move to target thread (0x55eda46af190)\n",
      "\n",
      "QObject::moveToThread: Current thread (0x55eda46af190) is not the object's thread (0x55eda409ff80).\n",
      "Cannot move to target thread (0x55eda46af190)\n",
      "\n",
      "QObject::moveToThread: Current thread (0x55eda46af190) is not the object's thread (0x55eda409ff80).\n",
      "Cannot move to target thread (0x55eda46af190)\n",
      "\n",
      "QObject::moveToThread: Current thread (0x55eda46af190) is not the object's thread (0x55eda409ff80).\n",
      "Cannot move to target thread (0x55eda46af190)\n",
      "\n",
      "QObject::moveToThread: Current thread (0x55eda46af190) is not the object's thread (0x55eda409ff80).\n",
      "Cannot move to target thread (0x55eda46af190)\n",
      "\n",
      "QObject::moveToThread: Current thread (0x55eda46af190) is not the object's thread (0x55eda409ff80).\n",
      "Cannot move to target thread (0x55eda46af190)\n",
      "\n",
      "QObject::moveToThread: Current thread (0x55eda46af190) is not the object's thread (0x55eda409ff80).\n",
      "Cannot move to target thread (0x55eda46af190)\n",
      "\n",
      "QObject::moveToThread: Current thread (0x55eda46af190) is not the object's thread (0x55eda409ff80).\n",
      "Cannot move to target thread (0x55eda46af190)\n",
      "\n",
      "QObject::moveToThread: Current thread (0x55eda46af190) is not the object's thread (0x55eda409ff80).\n",
      "Cannot move to target thread (0x55eda46af190)\n",
      "\n",
      "QObject::moveToThread: Current thread (0x55eda46af190) is not the object's thread (0x55eda409ff80).\n",
      "Cannot move to target thread (0x55eda46af190)\n",
      "\n",
      "QObject::moveToThread: Current thread (0x55eda46af190) is not the object's thread (0x55eda409ff80).\n",
      "Cannot move to target thread (0x55eda46af190)\n",
      "\n",
      "QObject::moveToThread: Current thread (0x55eda46af190) is not the object's thread (0x55eda409ff80).\n",
      "Cannot move to target thread (0x55eda46af190)\n",
      "\n",
      "QObject::moveToThread: Current thread (0x55eda46af190) is not the object's thread (0x55eda409ff80).\n",
      "Cannot move to target thread (0x55eda46af190)\n",
      "\n",
      "QObject::moveToThread: Current thread (0x55eda46af190) is not the object's thread (0x55eda409ff80).\n",
      "Cannot move to target thread (0x55eda46af190)\n",
      "\n",
      "QObject::moveToThread: Current thread (0x55eda46af190) is not the object's thread (0x55eda409ff80).\n",
      "Cannot move to target thread (0x55eda46af190)\n",
      "\n",
      "QObject::moveToThread: Current thread (0x55eda46af190) is not the object's thread (0x55eda409ff80).\n",
      "Cannot move to target thread (0x55eda46af190)\n",
      "\n",
      "QObject::moveToThread: Current thread (0x55eda46af190) is not the object's thread (0x55eda409ff80).\n",
      "Cannot move to target thread (0x55eda46af190)\n",
      "\n",
      "QObject::moveToThread: Current thread (0x55eda46af190) is not the object's thread (0x55eda409ff80).\n",
      "Cannot move to target thread (0x55eda46af190)\n",
      "\n",
      "QObject::moveToThread: Current thread (0x55eda46af190) is not the object's thread (0x55eda409ff80).\n",
      "Cannot move to target thread (0x55eda46af190)\n",
      "\n",
      "QObject::moveToThread: Current thread (0x55eda46af190) is not the object's thread (0x55eda409ff80).\n",
      "Cannot move to target thread (0x55eda46af190)\n",
      "\n",
      "QObject::moveToThread: Current thread (0x55eda46af190) is not the object's thread (0x55eda409ff80).\n",
      "Cannot move to target thread (0x55eda46af190)\n",
      "\n",
      "QObject::moveToThread: Current thread (0x55eda46af190) is not the object's thread (0x55eda409ff80).\n",
      "Cannot move to target thread (0x55eda46af190)\n",
      "\n",
      "QObject::moveToThread: Current thread (0x55eda46af190) is not the object's thread (0x55eda409ff80).\n",
      "Cannot move to target thread (0x55eda46af190)\n",
      "\n",
      "QObject::moveToThread: Current thread (0x55eda46af190) is not the object's thread (0x55eda409ff80).\n",
      "Cannot move to target thread (0x55eda46af190)\n",
      "\n",
      "QObject::moveToThread: Current thread (0x55eda46af190) is not the object's thread (0x55eda409ff80).\n",
      "Cannot move to target thread (0x55eda46af190)\n",
      "\n",
      "QObject::moveToThread: Current thread (0x55eda46af190) is not the object's thread (0x55eda409ff80).\n",
      "Cannot move to target thread (0x55eda46af190)\n",
      "\n",
      "QObject::moveToThread: Current thread (0x55eda46af190) is not the object's thread (0x55eda409ff80).\n",
      "Cannot move to target thread (0x55eda46af190)\n",
      "\n",
      "QObject::moveToThread: Current thread (0x55eda46af190) is not the object's thread (0x55eda409ff80).\n",
      "Cannot move to target thread (0x55eda46af190)\n",
      "\n",
      "QObject::moveToThread: Current thread (0x55eda46af190) is not the object's thread (0x55eda409ff80).\n",
      "Cannot move to target thread (0x55eda46af190)\n",
      "\n",
      "QObject::moveToThread: Current thread (0x55eda46af190) is not the object's thread (0x55eda409ff80).\n",
      "Cannot move to target thread (0x55eda46af190)\n",
      "\n",
      "QObject::moveToThread: Current thread (0x55eda46af190) is not the object's thread (0x55eda409ff80).\n",
      "Cannot move to target thread (0x55eda46af190)\n",
      "\n",
      "QObject::moveToThread: Current thread (0x55eda46af190) is not the object's thread (0x55eda409ff80).\n",
      "Cannot move to target thread (0x55eda46af190)\n",
      "\n",
      "QObject::moveToThread: Current thread (0x55eda46af190) is not the object's thread (0x55eda409ff80).\n",
      "Cannot move to target thread (0x55eda46af190)\n",
      "\n",
      "QObject::moveToThread: Current thread (0x55eda46af190) is not the object's thread (0x55eda409ff80).\n",
      "Cannot move to target thread (0x55eda46af190)\n",
      "\n",
      "QObject::moveToThread: Current thread (0x55eda46af190) is not the object's thread (0x55eda409ff80).\n",
      "Cannot move to target thread (0x55eda46af190)\n",
      "\n",
      "QObject::moveToThread: Current thread (0x55eda46af190) is not the object's thread (0x55eda409ff80).\n",
      "Cannot move to target thread (0x55eda46af190)\n",
      "\n",
      "QObject::moveToThread: Current thread (0x55eda46af190) is not the object's thread (0x55eda409ff80).\n",
      "Cannot move to target thread (0x55eda46af190)\n",
      "\n",
      "QObject::moveToThread: Current thread (0x55eda46af190) is not the object's thread (0x55eda409ff80).\n",
      "Cannot move to target thread (0x55eda46af190)\n",
      "\n",
      "QObject::moveToThread: Current thread (0x55eda46af190) is not the object's thread (0x55eda409ff80).\n",
      "Cannot move to target thread (0x55eda46af190)\n",
      "\n",
      "QObject::moveToThread: Current thread (0x55eda46af190) is not the object's thread (0x55eda409ff80).\n",
      "Cannot move to target thread (0x55eda46af190)\n",
      "\n",
      "QObject::moveToThread: Current thread (0x55eda46af190) is not the object's thread (0x55eda409ff80).\n",
      "Cannot move to target thread (0x55eda46af190)\n",
      "\n",
      "QObject::moveToThread: Current thread (0x55eda46af190) is not the object's thread (0x55eda409ff80).\n",
      "Cannot move to target thread (0x55eda46af190)\n",
      "\n",
      "QObject::moveToThread: Current thread (0x55eda46af190) is not the object's thread (0x55eda409ff80).\n",
      "Cannot move to target thread (0x55eda46af190)\n",
      "\n",
      "QObject::moveToThread: Current thread (0x55eda46af190) is not the object's thread (0x55eda409ff80).\n",
      "Cannot move to target thread (0x55eda46af190)\n",
      "\n",
      "QObject::moveToThread: Current thread (0x55eda46af190) is not the object's thread (0x55eda409ff80).\n",
      "Cannot move to target thread (0x55eda46af190)\n",
      "\n",
      "QObject::moveToThread: Current thread (0x55eda46af190) is not the object's thread (0x55eda409ff80).\n",
      "Cannot move to target thread (0x55eda46af190)\n",
      "\n",
      "QObject::moveToThread: Current thread (0x55eda46af190) is not the object's thread (0x55eda409ff80).\n",
      "Cannot move to target thread (0x55eda46af190)\n",
      "\n",
      "QObject::moveToThread: Current thread (0x55eda46af190) is not the object's thread (0x55eda409ff80).\n",
      "Cannot move to target thread (0x55eda46af190)\n",
      "\n",
      "QObject::moveToThread: Current thread (0x55eda46af190) is not the object's thread (0x55eda409ff80).\n",
      "Cannot move to target thread (0x55eda46af190)\n",
      "\n",
      "QObject::moveToThread: Current thread (0x55eda46af190) is not the object's thread (0x55eda409ff80).\n",
      "Cannot move to target thread (0x55eda46af190)\n",
      "\n",
      "QObject::moveToThread: Current thread (0x55eda46af190) is not the object's thread (0x55eda409ff80).\n",
      "Cannot move to target thread (0x55eda46af190)\n",
      "\n",
      "QObject::moveToThread: Current thread (0x55eda46af190) is not the object's thread (0x55eda409ff80).\n",
      "Cannot move to target thread (0x55eda46af190)\n",
      "\n",
      "QObject::moveToThread: Current thread (0x55eda46af190) is not the object's thread (0x55eda409ff80).\n",
      "Cannot move to target thread (0x55eda46af190)\n",
      "\n",
      "QObject::moveToThread: Current thread (0x55eda46af190) is not the object's thread (0x55eda409ff80).\n",
      "Cannot move to target thread (0x55eda46af190)\n",
      "\n",
      "QObject::moveToThread: Current thread (0x55eda46af190) is not the object's thread (0x55eda409ff80).\n",
      "Cannot move to target thread (0x55eda46af190)\n",
      "\n",
      "QObject::moveToThread: Current thread (0x55eda46af190) is not the object's thread (0x55eda409ff80).\n",
      "Cannot move to target thread (0x55eda46af190)\n",
      "\n",
      "QObject::moveToThread: Current thread (0x55eda46af190) is not the object's thread (0x55eda409ff80).\n",
      "Cannot move to target thread (0x55eda46af190)\n",
      "\n",
      "QObject::moveToThread: Current thread (0x55eda46af190) is not the object's thread (0x55eda409ff80).\n",
      "Cannot move to target thread (0x55eda46af190)\n",
      "\n",
      "QObject::moveToThread: Current thread (0x55eda46af190) is not the object's thread (0x55eda409ff80).\n",
      "Cannot move to target thread (0x55eda46af190)\n",
      "\n",
      "QObject::moveToThread: Current thread (0x55eda46af190) is not the object's thread (0x55eda409ff80).\n",
      "Cannot move to target thread (0x55eda46af190)\n",
      "\n"
     ]
    },
    {
     "name": "stdout",
     "output_type": "stream",
     "text": [
      "True\n",
      "False\n",
      "True\n",
      "False\n"
     ]
    }
   ],
   "source": [
    "cap = cv2.VideoCapture(0)\n",
    "while cap.isOpened():\n",
    "    ret, frame = cap.read()\n",
    "    frame = frame[120:120+250,200:200+250, :]\n",
    "    \n",
    "    cv2.imshow('Verification', frame)\n",
    "    \n",
    "    # Verification trigger\n",
    "    if cv2.waitKey(10) & 0xFF == ord('v'):\n",
    "        # Save input image to application_data/input_image folder \n",
    "#         hsv = cv2.cvtColor(frame, cv2.COLOR_BGR2HSV)\n",
    "#         h, s, v = cv2.split(hsv)\n",
    "\n",
    "#         lim = 255 - 10\n",
    "#         v[v > lim] = 255\n",
    "#         v[v <= lim] -= 10\n",
    "        \n",
    "#         final_hsv = cv2.merge((h, s, v))\n",
    "#         img = cv2.cvtColor(final_hsv, cv2.COLOR_HSV2BGR)\n",
    "\n",
    "        cv2.imwrite(os.path.join('application_data', 'input_image', 'input_image.jpg'), frame)\n",
    "        # Run verification\n",
    "        results, verified = verify(siamese_model, 0.5, 0.5)\n",
    "        print(verified)\n",
    "    \n",
    "    if cv2.waitKey(10) & 0xFF == ord('q'):\n",
    "        break\n",
    "cap.release()\n",
    "cv2.destroyAllWindows()"
   ]
  },
  {
   "cell_type": "code",
   "execution_count": 40,
   "id": "73e79519",
   "metadata": {},
   "outputs": [],
   "source": [
    "# np.sum(np.squeeze(results) > 0.9)"
   ]
  },
  {
   "cell_type": "code",
   "execution_count": 41,
   "id": "3e87ef39",
   "metadata": {
    "collapsed": true
   },
   "outputs": [
    {
     "data": {
      "text/plain": [
       "[array([[5.2963316e-07]], dtype=float32),\n",
       " array([[2.7554414e-09]], dtype=float32),\n",
       " array([[7.456064e-07]], dtype=float32),\n",
       " array([[0.00058356]], dtype=float32),\n",
       " array([[2.055235e-06]], dtype=float32),\n",
       " array([[2.206267e-07]], dtype=float32),\n",
       " array([[1.7330075e-07]], dtype=float32),\n",
       " array([[1.13492455e-07]], dtype=float32),\n",
       " array([[6.346709e-08]], dtype=float32),\n",
       " array([[8.47238e-07]], dtype=float32),\n",
       " array([[1.8893253e-06]], dtype=float32),\n",
       " array([[1.7793922e-06]], dtype=float32),\n",
       " array([[1.5796068e-08]], dtype=float32),\n",
       " array([[7.92463e-06]], dtype=float32),\n",
       " array([[1.04364474e-07]], dtype=float32),\n",
       " array([[1.1165282e-07]], dtype=float32),\n",
       " array([[1.4956216e-08]], dtype=float32),\n",
       " array([[1.2052584e-06]], dtype=float32),\n",
       " array([[3.2553057e-08]], dtype=float32),\n",
       " array([[0.00050032]], dtype=float32),\n",
       " array([[1.9989432e-07]], dtype=float32),\n",
       " array([[5.108625e-05]], dtype=float32),\n",
       " array([[3.2388917e-07]], dtype=float32),\n",
       " array([[1.217896e-07]], dtype=float32),\n",
       " array([[3.4378225e-08]], dtype=float32),\n",
       " array([[4.5915294e-05]], dtype=float32),\n",
       " array([[0.00033545]], dtype=float32),\n",
       " array([[6.482755e-09]], dtype=float32),\n",
       " array([[6.8057005e-08]], dtype=float32),\n",
       " array([[7.225956e-07]], dtype=float32),\n",
       " array([[4.495806e-08]], dtype=float32),\n",
       " array([[0.00049105]], dtype=float32),\n",
       " array([[1.0989434e-07]], dtype=float32),\n",
       " array([[0.00062799]], dtype=float32),\n",
       " array([[1.1972067e-07]], dtype=float32),\n",
       " array([[8.592909e-09]], dtype=float32),\n",
       " array([[4.0751164e-08]], dtype=float32),\n",
       " array([[4.8030786e-05]], dtype=float32),\n",
       " array([[0.00097865]], dtype=float32),\n",
       " array([[2.2623124e-07]], dtype=float32),\n",
       " array([[1.616108e-07]], dtype=float32),\n",
       " array([[5.243763e-08]], dtype=float32),\n",
       " array([[1.7383135e-06]], dtype=float32),\n",
       " array([[3.2968822e-07]], dtype=float32),\n",
       " array([[2.8637825e-07]], dtype=float32),\n",
       " array([[4.796583e-07]], dtype=float32),\n",
       " array([[0.00070566]], dtype=float32),\n",
       " array([[0.00075406]], dtype=float32),\n",
       " array([[5.8988032e-08]], dtype=float32),\n",
       " array([[4.4945455e-08]], dtype=float32),\n",
       " array([[7.5212505e-08]], dtype=float32),\n",
       " array([[6.280956e-08]], dtype=float32),\n",
       " array([[0.00048983]], dtype=float32),\n",
       " array([[0.00116467]], dtype=float32),\n",
       " array([[2.9787815e-08]], dtype=float32),\n",
       " array([[0.00056055]], dtype=float32),\n",
       " array([[5.6534054e-07]], dtype=float32),\n",
       " array([[1.0185606e-06]], dtype=float32)]"
      ]
     },
     "execution_count": 41,
     "metadata": {},
     "output_type": "execute_result"
    }
   ],
   "source": [
    "results"
   ]
  },
  {
   "cell_type": "code",
   "execution_count": null,
   "id": "a86fbe07",
   "metadata": {},
   "outputs": [],
   "source": []
  }
 ],
 "metadata": {
  "kernelspec": {
   "display_name": "Python 3 (ipykernel)",
   "language": "python",
   "name": "python3"
  },
  "language_info": {
   "codemirror_mode": {
    "name": "ipython",
    "version": 3
   },
   "file_extension": ".py",
   "mimetype": "text/x-python",
   "name": "python",
   "nbconvert_exporter": "python",
   "pygments_lexer": "ipython3",
   "version": "3.9.12"
  }
 },
 "nbformat": 4,
 "nbformat_minor": 5
}
